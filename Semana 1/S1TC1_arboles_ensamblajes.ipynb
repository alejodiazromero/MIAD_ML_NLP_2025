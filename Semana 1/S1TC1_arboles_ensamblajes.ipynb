{
 "cells": [
  {
   "cell_type": "markdown",
   "metadata": {},
   "source": [
    "![image info](https://raw.githubusercontent.com/albahnsen/MIAD_ML_and_NLP/main/images/banner_1.png)"
   ]
  },
  {
   "cell_type": "markdown",
   "metadata": {},
   "source": [
    "# Taller: Construcción e implementación de árboles de decisión y métodos de ensamblaje\n",
    "\n",
    "En este taller podrá poner en práctica los sus conocimientos sobre construcción e implementación de árboles de decisión y métodos de ensamblajes. El taller está constituido por 9 puntos, 5 relacionados con árboles de decisión (parte A) y 4 con métodos de ensamblaje (parte B)."
   ]
  },
  {
   "cell_type": "markdown",
   "metadata": {},
   "source": [
    "## Parte A - Árboles de decisión\n",
    "\n",
    "En esta parte del taller se usará el conjunto de datos de Capital Bikeshare de Kaggle, donde cada observación representa el alquiler de bicicletas durante una hora y día determinado. Para más detalles puede visitar los siguientes enlaces: [datos](https://archive.ics.uci.edu/ml/machine-learning-databases/00275/Bike-Sharing-Dataset.zip), [dicccionario de datos](https://archive.ics.uci.edu/ml/datasets/Bike+Sharing+Dataset#)."
   ]
  },
  {
   "cell_type": "markdown",
   "metadata": {},
   "source": [
    "### Datos prestamo de bicicletas"
   ]
  },
  {
   "cell_type": "code",
   "execution_count": 1,
   "metadata": {},
   "outputs": [],
   "source": [
    "import warnings\n",
    "warnings.filterwarnings('ignore')"
   ]
  },
  {
   "cell_type": "code",
   "execution_count": 2,
   "metadata": {},
   "outputs": [],
   "source": [
    "# Importación de librerías\n",
    "%matplotlib inline\n",
    "import pandas as pd\n",
    "import numpy as np\n",
    "from sklearn.model_selection import cross_val_score\n",
    "from sklearn.linear_model import LinearRegression\n",
    "from sklearn.tree import DecisionTreeRegressor, export_graphviz\n"
   ]
  },
  {
   "cell_type": "code",
   "execution_count": 3,
   "metadata": {},
   "outputs": [
    {
     "data": {
      "text/html": [
       "<div>\n",
       "<style scoped>\n",
       "    .dataframe tbody tr th:only-of-type {\n",
       "        vertical-align: middle;\n",
       "    }\n",
       "\n",
       "    .dataframe tbody tr th {\n",
       "        vertical-align: top;\n",
       "    }\n",
       "\n",
       "    .dataframe thead th {\n",
       "        text-align: right;\n",
       "    }\n",
       "</style>\n",
       "<table border=\"1\" class=\"dataframe\">\n",
       "  <thead>\n",
       "    <tr style=\"text-align: right;\">\n",
       "      <th></th>\n",
       "      <th>season</th>\n",
       "      <th>holiday</th>\n",
       "      <th>workingday</th>\n",
       "      <th>weather</th>\n",
       "      <th>temp</th>\n",
       "      <th>atemp</th>\n",
       "      <th>humidity</th>\n",
       "      <th>windspeed</th>\n",
       "      <th>casual</th>\n",
       "      <th>registered</th>\n",
       "      <th>total</th>\n",
       "      <th>hour</th>\n",
       "    </tr>\n",
       "    <tr>\n",
       "      <th>datetime</th>\n",
       "      <th></th>\n",
       "      <th></th>\n",
       "      <th></th>\n",
       "      <th></th>\n",
       "      <th></th>\n",
       "      <th></th>\n",
       "      <th></th>\n",
       "      <th></th>\n",
       "      <th></th>\n",
       "      <th></th>\n",
       "      <th></th>\n",
       "      <th></th>\n",
       "    </tr>\n",
       "  </thead>\n",
       "  <tbody>\n",
       "    <tr>\n",
       "      <th>2011-01-01 00:00:00</th>\n",
       "      <td>1</td>\n",
       "      <td>0</td>\n",
       "      <td>0</td>\n",
       "      <td>1</td>\n",
       "      <td>9.84</td>\n",
       "      <td>14.395</td>\n",
       "      <td>81</td>\n",
       "      <td>0.0</td>\n",
       "      <td>3</td>\n",
       "      <td>13</td>\n",
       "      <td>16</td>\n",
       "      <td>0</td>\n",
       "    </tr>\n",
       "    <tr>\n",
       "      <th>2011-01-01 01:00:00</th>\n",
       "      <td>1</td>\n",
       "      <td>0</td>\n",
       "      <td>0</td>\n",
       "      <td>1</td>\n",
       "      <td>9.02</td>\n",
       "      <td>13.635</td>\n",
       "      <td>80</td>\n",
       "      <td>0.0</td>\n",
       "      <td>8</td>\n",
       "      <td>32</td>\n",
       "      <td>40</td>\n",
       "      <td>1</td>\n",
       "    </tr>\n",
       "    <tr>\n",
       "      <th>2011-01-01 02:00:00</th>\n",
       "      <td>1</td>\n",
       "      <td>0</td>\n",
       "      <td>0</td>\n",
       "      <td>1</td>\n",
       "      <td>9.02</td>\n",
       "      <td>13.635</td>\n",
       "      <td>80</td>\n",
       "      <td>0.0</td>\n",
       "      <td>5</td>\n",
       "      <td>27</td>\n",
       "      <td>32</td>\n",
       "      <td>2</td>\n",
       "    </tr>\n",
       "    <tr>\n",
       "      <th>2011-01-01 03:00:00</th>\n",
       "      <td>1</td>\n",
       "      <td>0</td>\n",
       "      <td>0</td>\n",
       "      <td>1</td>\n",
       "      <td>9.84</td>\n",
       "      <td>14.395</td>\n",
       "      <td>75</td>\n",
       "      <td>0.0</td>\n",
       "      <td>3</td>\n",
       "      <td>10</td>\n",
       "      <td>13</td>\n",
       "      <td>3</td>\n",
       "    </tr>\n",
       "    <tr>\n",
       "      <th>2011-01-01 04:00:00</th>\n",
       "      <td>1</td>\n",
       "      <td>0</td>\n",
       "      <td>0</td>\n",
       "      <td>1</td>\n",
       "      <td>9.84</td>\n",
       "      <td>14.395</td>\n",
       "      <td>75</td>\n",
       "      <td>0.0</td>\n",
       "      <td>0</td>\n",
       "      <td>1</td>\n",
       "      <td>1</td>\n",
       "      <td>4</td>\n",
       "    </tr>\n",
       "  </tbody>\n",
       "</table>\n",
       "</div>"
      ],
      "text/plain": [
       "                     season  holiday  workingday  weather  temp   atemp  \\\n",
       "datetime                                                                  \n",
       "2011-01-01 00:00:00       1        0           0        1  9.84  14.395   \n",
       "2011-01-01 01:00:00       1        0           0        1  9.02  13.635   \n",
       "2011-01-01 02:00:00       1        0           0        1  9.02  13.635   \n",
       "2011-01-01 03:00:00       1        0           0        1  9.84  14.395   \n",
       "2011-01-01 04:00:00       1        0           0        1  9.84  14.395   \n",
       "\n",
       "                     humidity  windspeed  casual  registered  total  hour  \n",
       "datetime                                                                   \n",
       "2011-01-01 00:00:00        81        0.0       3          13     16     0  \n",
       "2011-01-01 01:00:00        80        0.0       8          32     40     1  \n",
       "2011-01-01 02:00:00        80        0.0       5          27     32     2  \n",
       "2011-01-01 03:00:00        75        0.0       3          10     13     3  \n",
       "2011-01-01 04:00:00        75        0.0       0           1      1     4  "
      ]
     },
     "execution_count": 3,
     "metadata": {},
     "output_type": "execute_result"
    }
   ],
   "source": [
    "# Lectura de la información de archivo .csv\n",
    "bikes = pd.read_csv('https://raw.githubusercontent.com/davidzarruk/MIAD_ML_NLP_2023/main/datasets/bikeshare.csv', index_col='datetime', parse_dates=True)\n",
    "\n",
    "# Renombrar variable \"count\" a \"total\"\n",
    "bikes.rename(columns={'count':'total'}, inplace=True)\n",
    "\n",
    "# Crear la hora como una variable \n",
    "bikes['hour'] = bikes.index.hour\n",
    "\n",
    "# Visualización de los datos\n",
    "bikes.head()"
   ]
  },
  {
   "cell_type": "markdown",
   "metadata": {},
   "source": [
    "### Punto 1 - Análisis descriptivo\n",
    "\n",
    "Ejecute las celdas 1.1 y 1.2. A partir de los resultados realice un análisis descriptivo sobre las variables \"season\" y \"hour\", escriba sus inferencias sobre los datos. Para complementar su análisis puede usar métricas como máximo, mínimo, percentiles entre otros."
   ]
  },
  {
   "cell_type": "code",
   "execution_count": 5,
   "metadata": {},
   "outputs": [
    {
     "data": {
      "text/plain": [
       "season\n",
       "1    116.343261\n",
       "2    215.251372\n",
       "3    234.417124\n",
       "4    198.988296\n",
       "Name: total, dtype: float64"
      ]
     },
     "execution_count": 5,
     "metadata": {},
     "output_type": "execute_result"
    }
   ],
   "source": [
    "# Celda 1.1\n",
    "bikes.groupby('season').total.mean()"
   ]
  },
  {
   "cell_type": "markdown",
   "metadata": {},
   "source": [
    "De acuerdo a la información proporcionada, en la estación de invierno es donde se presta una cantidad menor de bicicletas respecto a las otras estaciones. Caso contrario ocurre en la estación de verano donde concentra la mayor cantidad de préstamo de bicicletas."
   ]
  },
  {
   "cell_type": "code",
   "execution_count": 7,
   "metadata": {},
   "outputs": [
    {
     "name": "stdout",
     "output_type": "stream",
     "text": [
      "Análisis descriptivo de 'season' en función de 'total':\n",
      "        max_value  min_value   p25    p50    p75\n",
      "season                                          \n",
      "1             801          1  24.0   78.0  164.0\n",
      "2             873          1  49.0  172.0  321.0\n",
      "3             977          1  68.0  195.0  347.0\n",
      "4             948          1  51.0  161.0  294.0\n"
     ]
    }
   ],
   "source": [
    "def descriptive_analysis(data, group_column, target_column):\n",
    "   \n",
    "    grouped_data = data.groupby(group_column)[target_column] \n",
    "    descriptive_stats = grouped_data.agg(\n",
    "        max_value=('max'),\n",
    "        min_value=('min'),\n",
    "        p25=(lambda x: x.quantile(0.25)),\n",
    "        p50=(lambda x: x.quantile(0.5)),  # Percentil 50 (mediana)\n",
    "        p75=(lambda x: x.quantile(0.75))\n",
    "    )\n",
    "    \n",
    "    return descriptive_stats\n",
    "    \n",
    "season_analysis = descriptive_analysis(bikes, 'season', 'total')\n",
    "\n",
    "# Mostrar los resultados\n",
    "print(\"Análisis descriptivo de 'season' en función de 'total':\")\n",
    "print(season_analysis)"
   ]
  },
  {
   "cell_type": "markdown",
   "metadata": {},
   "source": [
    "Al revisar el estadístico del percentil, queda marcado el comportamiento en la estación de invierno que el 50% de la cantidad de prestamos son menores o iguales a 78 bicicletas. Es un número muy bajo comparado con las otras estaciones."
   ]
  },
  {
   "cell_type": "code",
   "execution_count": 9,
   "metadata": {
    "scrolled": true
   },
   "outputs": [
    {
     "data": {
      "text/plain": [
       "hour\n",
       "0      55.138462\n",
       "1      33.859031\n",
       "2      22.899554\n",
       "3      11.757506\n",
       "4       6.407240\n",
       "5      19.767699\n",
       "6      76.259341\n",
       "7     213.116484\n",
       "8     362.769231\n",
       "9     221.780220\n",
       "10    175.092308\n",
       "11    210.674725\n",
       "12    256.508772\n",
       "13    257.787281\n",
       "14    243.442982\n",
       "15    254.298246\n",
       "16    316.372807\n",
       "17    468.765351\n",
       "18    430.859649\n",
       "19    315.278509\n",
       "20    228.517544\n",
       "21    173.370614\n",
       "22    133.576754\n",
       "23     89.508772\n",
       "Name: total, dtype: float64"
      ]
     },
     "execution_count": 9,
     "metadata": {},
     "output_type": "execute_result"
    }
   ],
   "source": [
    "# Celda 1.2\n",
    "bikes.groupby('hour').total.mean()"
   ]
  },
  {
   "cell_type": "code",
   "execution_count": 10,
   "metadata": {},
   "outputs": [
    {
     "name": "stdout",
     "output_type": "stream",
     "text": [
      "Análisis descriptivo de 'season' en función de 'total':\n",
      "      max_value  min_value     p25    p50     p75\n",
      "hour                                             \n",
      "0           283          2   24.00   41.0   74.50\n",
      "1           168          1   11.00   19.0   46.00\n",
      "2           119          1    5.00   11.0   32.00\n",
      "3            66          1    3.00    6.0   15.00\n",
      "4            28          1    3.00    6.0    9.00\n",
      "5            57          1    8.00   19.0   29.00\n",
      "6           213          1   24.50   75.0  118.00\n",
      "7           596          1   63.00  208.0  334.00\n",
      "8           839          8  133.50  392.0  563.50\n",
      "9           414         14  161.00  217.0  294.50\n",
      "10          539         17  106.00  149.0  218.50\n",
      "11          647         10  123.00  183.0  265.50\n",
      "12          757          3  157.00  234.5  332.00\n",
      "13          729         11  154.00  226.5  329.00\n",
      "14          730         12  144.00  212.0  311.25\n",
      "15          724          7  154.00  232.0  331.00\n",
      "16          783         11  211.75  309.5  421.00\n",
      "17          970         15  277.00  480.5  608.50\n",
      "18          977         23  240.75  422.5  564.00\n",
      "19          743         11  190.00  312.5  416.00\n",
      "20          551         11  136.75  224.0  302.00\n",
      "21          584          6  103.50  171.5  230.00\n",
      "22          502          9   80.00  129.0  175.00\n",
      "23          256          4   52.75   80.0  123.00\n"
     ]
    }
   ],
   "source": [
    "season_analysis = descriptive_analysis(bikes, 'hour', 'total')\n",
    "\n",
    "# Mostrar los resultados\n",
    "print(\"Análisis descriptivo de 'season' en función de 'total':\")\n",
    "print(season_analysis)"
   ]
  },
  {
   "cell_type": "markdown",
   "metadata": {},
   "source": [
    "En promedio las horas donde hay mas concetraciones de préstamo de bicicletas son a las 8, 16, 17 18 y 19 horas. Esta estimación es ratificada con la estimación de los percentiles en especial del 50% donde ratifica la afirmación inicial."
   ]
  },
  {
   "cell_type": "markdown",
   "metadata": {},
   "source": [
    "### Punto 2 - Análisis de gráficos\n",
    "\n",
    "Primero ejecute la celda 2.1 y asegúrese de comprender el código y el resultado. Luego, en cada una de celdas 2.2 y 2.3 escriba un código que genere una gráfica del número de bicicletas rentadas promedio para cada valor de la variable \"hour\" (hora) cuando la variable \"season\" es igual a 1 (invierno) e igual a 3 (verano), respectivamente. Analice y escriba sus hallazgos."
   ]
  },
  {
   "cell_type": "code",
   "execution_count": 11,
   "metadata": {},
   "outputs": [
    {
     "data": {
      "text/plain": [
       "<Axes: xlabel='hour'>"
      ]
     },
     "execution_count": 11,
     "metadata": {},
     "output_type": "execute_result"
    },
    {
     "data": {
      "image/png": "[encoded data removed]",
      "text/plain": [
       "<Figure size 640x480 with 1 Axes>"
      ]
     },
     "metadata": {},
     "output_type": "display_data"
    }
   ],
   "source": [
    "# Celda 2.1 - rentas promedio para cada valor de la variable \"hour\"\n",
    "bikes.groupby('hour').total.mean().plot()"
   ]
  },
  {
   "cell_type": "code",
   "execution_count": 12,
   "metadata": {},
   "outputs": [
    {
     "data": {
      "image/png": "[encoded data removed]",
      "text/plain": [
       "<Figure size 1000x600 with 1 Axes>"
      ]
     },
     "metadata": {},
     "output_type": "display_data"
    }
   ],
   "source": [
    "# Celda 2.2 - \"season\"=1 escriba su código y hallazgos \n",
    "import matplotlib.pyplot as plt\n",
    "\n",
    "invierno_bikes = bikes[bikes['season'] == 1]\n",
    "average_rentals_per_hour = invierno_bikes.groupby('hour')['total'].mean()\n",
    "\n",
    "# Gráfica\n",
    "plt.figure(figsize=(10, 6))\n",
    "average_rentals_per_hour.plot(kind='line', color='blue', marker='o', linestyle='-')\n",
    "plt.title('Promedio de Bicicletas Rentadas por Hora en Invierno')\n",
    "plt.xlabel('Hora del Día')\n",
    "plt.ylabel('Número Promedio de Bicicletas Rentadas')\n",
    "plt.grid(True)\n",
    "plt.xticks(range(0, 24))  # Mostrar cada hora en el eje X\n",
    "plt.show()\n"
   ]
  },
  {
   "cell_type": "markdown",
   "metadata": {},
   "source": [
    "Podemos observar en la gráfica que, durante el invierno, las horas de mayor demanda en el préstamo de bicicletas ocurren a las 8:00, 17:00 y 18:00 horas. Este patrón sugiere una fuerte relación con los horarios de inicio y finalización de la jornada laboral, reflejando el comportamiento de movilidad de las personas en su rutina diaria."
   ]
  },
  {
   "cell_type": "code",
   "execution_count": 14,
   "metadata": {},
   "outputs": [
    {
     "data": {
      "image/png": "[encoded data removed]",
      "text/plain": [
       "<Figure size 1000x600 with 1 Axes>"
      ]
     },
     "metadata": {},
     "output_type": "display_data"
    }
   ],
   "source": [
    "# Celda 2.3 - \"season\"=3 escriba su código y hallazgos \n",
    "\n",
    "verano_bikes = bikes[bikes['season'] == 3]\n",
    "average_rentals_per_hour = verano_bikes.groupby('hour')['total'].mean()\n",
    "\n",
    "# Gráfica\n",
    "plt.figure(figsize=(10, 6))\n",
    "average_rentals_per_hour.plot(kind='line', color='blue', marker='o', linestyle='-')\n",
    "plt.title('Promedio de Bicicletas Rentadas por Hora en Verano')\n",
    "plt.xlabel('Hora del Día')\n",
    "plt.ylabel('Número Promedio de Bicicletas Rentadas')\n",
    "plt.grid(True)\n",
    "plt.xticks(range(0, 24))  # Mostrar cada hora en el eje X\n",
    "plt.show()\n"
   ]
  },
  {
   "cell_type": "markdown",
   "metadata": {},
   "source": [
    "Al igual que en invierno, las horas de mayor demanda en el préstamo de bicicletas se registran a las 8:00, 17:00 y 18:00 horas, lo que sugiere una fuerte relación con los horarios de inicio y finalización de la jornada laboral. Este patrón refleja el comportamiento de movilidad diaria de las personas. Sin embargo, a diferencia del invierno, la demanda de préstamos de bicicletas es notablemente mayor, lo que podría estar influenciado por condiciones climáticas más favorables u otros factores estacionales.\n"
   ]
  },
  {
   "cell_type": "markdown",
   "metadata": {},
   "source": [
    "### Punto 3 - Regresión lineal\n",
    "En la celda 3 ajuste un modelo de regresión lineal a un conjunto de train de datos, utilizando \"total\" como variable de respuesta y \"season\" y \"hour\" como las únicas variables predictoras, teniendo en cuenta que la variable \"season\" es categórica. Luego, imprima los coeficientes e interprételos. ¿Cuáles son las limitaciones de la regresión lineal en este caso?"
   ]
  },
  {
   "cell_type": "code",
   "execution_count": 57,
   "metadata": {},
   "outputs": [
    {
     "name": "stdout",
     "output_type": "stream",
     "text": [
      "\n",
      "Intercepto promedio: -6.4221721935743\n",
      "Coeficientes promedio:\n",
      "hour: 10.544771341076515\n",
      "season_2: 100.3141227903202\n",
      "season_3: 119.46310150459738\n",
      "season_4: 84.0830511948015\n",
      "\n",
      "RMSE - Regresión Lineal: 156.15576711308222\n",
      "R² - Regresión Lineal: 0.24615855846653723\n"
     ]
    }
   ],
   "source": [
    "# Celda 3\n",
    "from sklearn.model_selection import train_test_split\n",
    "from sklearn.linear_model import LinearRegression\n",
    "from sklearn.preprocessing import OneHotEncoder\n",
    "from sklearn.model_selection import KFold\n",
    "\n",
    "X = bikes[['season', 'hour']]\n",
    "y = bikes['total']\n",
    "\n",
    "X = pd.get_dummies(X, columns=['season'], drop_first=True)\n",
    "\n",
    "# K=5 folds\n",
    "kf = KFold(n_splits=5, shuffle=True, random_state=42)\n",
    "\n",
    "# Almacenamos cada fold\n",
    "intercepts = []\n",
    "coefs = []\n",
    "\n",
    "# Validación cruzada\n",
    "for train_index, test_index in kf.split(X):\n",
    "    # Separar datos en train y test para este fold\n",
    "    X_train, X_test = X.iloc[train_index], X.iloc[test_index]\n",
    "    y_train, y_test = y.iloc[train_index], y.iloc[test_index]\n",
    "\n",
    "    # Entrenar modelo\n",
    "    model = LinearRegression()\n",
    "    model.fit(X_train, y_train)\n",
    "\n",
    "    # Guardar coeficientes del modelo\n",
    "    intercepts.append(model.intercept_)\n",
    "    coefs.append(model.coef_)\n",
    "\n",
    "# Resultados\n",
    "mean_intercept = np.mean(intercepts)\n",
    "mean_coefs = np.mean(coefs, axis=0)\n",
    "\n",
    "print(\"\\nIntercepto promedio:\", mean_intercept)\n",
    "print(\"Coeficientes promedio:\")\n",
    "for feature, coef in zip(X.columns, mean_coefs):\n",
    "    print(f\"{feature}: {coef}\")\n",
    "\n",
    "y_pred_lr = model.predict(X_test) \n",
    "rmse_lr = np.sqrt(mean_squared_error(y_test, y_pred_lr))\n",
    "r2_lr = r2_score(y_test, y_pred_lr)\n",
    "\n",
    "print(f\"\\nRMSE - Regresión Lineal: {rmse_lr}\")\n",
    "print(f\"R² - Regresión Lineal: {r2_lr}\")"
   ]
  },
  {
   "cell_type": "markdown",
   "metadata": {},
   "source": [
    "#### Interpretando los coeficientes:\n",
    "•\tEl intercepto de -6.42 es el valor esperado de total cuando hour = 0 y es la temporada de referencia (season_1).\n",
    "\n",
    "•\thour = 10.54: cada hora adicional aumenta el total en 10.54 unidades.\n",
    "\n",
    "•\tseason_2 (primavera) = 100.31: si la temporada es season_2, el total aumenta en 100.31 unidades respecto a la temporada de referencia (season_1).\n",
    "\n",
    "•\tseason_3 (verano) = 119.46 : si la temporada es season_3, el total aumenta en 119.46 unidades respecto a la temporada de referencia.\n",
    "\n",
    "•\tseason_4 (otoño) = 84.08 : si la temporada es season_4, el total aumenta en 84.08 unidades respecto a la temporada de referencia.\n",
    "\n",
    "Nota: temporada de referencia es season 1 y el total significa nro. total de bicicletas alquiladas\n",
    "\n",
    "La principal limitación de utilizar un modelo de regresión lineal en este caso es la suposición de que la relación entre las variables predictoras y la variable objetivo es estrictamente lineal. Sin embargo, es posible que existan patrones más complejos o comportamientos no lineales en los datos, especialmente si la demanda varía en función de factores estacionales o eventos específicos. Estos patrones pueden ser estacionarios, repitiéndose en ciertos períodos, lo que sugiere que un modelo más flexible, como árboles de decisión o modelos de series temporales, podría capturar mejor estas dinámicas.\n"
   ]
  },
  {
   "cell_type": "markdown",
   "metadata": {},
   "source": [
    "### Punto 4 - Árbol de decisión manual\n",
    "En la celda 4 cree un árbol de decisiones para pronosticar la variable \"total\" iterando **manualmente** sobre las variables \"hour\" y  \"season\". El árbol debe tener al menos 6 nodos finales."
   ]
  },
  {
   "cell_type": "code",
   "execution_count": 49,
   "metadata": {},
   "outputs": [
    {
     "name": "stdout",
     "output_type": "stream",
     "text": [
      "node_1\n",
      "afternoon    264.023940\n",
      "morning      118.348171\n",
      "Name: total, dtype: float64\n",
      "\n",
      "\n",
      "node_2\n",
      "afternoon_summer    327.366228\n",
      "morning_spring      128.080586\n",
      "morning_winter       75.351290\n",
      "other               199.487345\n",
      "Name: total, dtype: float64\n",
      "\n",
      "Nodos finales y sus registros:\n",
      "node_3\n",
      "other                   6835\n",
      "morning_spring          1365\n",
      "afternoon_summer         798\n",
      "morning_winter           678\n",
      "early_morning_winter     640\n",
      "evening_summer           570\n",
      "Name: count, dtype: int64\n",
      "\n",
      "Promedio de 'total' por nodo final:\n",
      "node_3\n",
      "afternoon_summer        381.218045\n",
      "early_morning_winter     13.976562\n",
      "evening_summer          251.973684\n",
      "morning_spring          128.080586\n",
      "morning_winter          133.286136\n",
      "other                   199.487345\n",
      "Name: total, dtype: float64\n"
     ]
    }
   ],
   "source": [
    "# Celda 4\n",
    "\n",
    "bikes['hour'] = bikes.index.hour\n",
    "data = bikes[['hour', 'season', 'total']]\n",
    "\n",
    "# Primera división\n",
    "data['node_1'] = np.where(data['hour'] < 12, 'morning', 'afternoon')\n",
    "\n",
    "# Analizar promedios de 'total' en cada grupo\n",
    "print(data.groupby('node_1')['total'].mean())\n",
    "\n",
    "# Segunda división\n",
    "data['node_2'] = np.where((data['node_1'] == 'morning') & (data['season'] == 1), 'morning_winter',\n",
    "                 np.where((data['node_1'] == 'morning') & (data['season'] == 2), 'morning_spring',\n",
    "                 np.where((data['node_1'] == 'afternoon') & (data['season'] == 3), 'afternoon_summer',\n",
    "                 'other')))\n",
    "\n",
    "# Analizar promedios de 'total' en los subgrupos\n",
    "print(\"\\n\")\n",
    "print(data.groupby('node_2')['total'].mean())\n",
    "\n",
    "# Tercera división\n",
    "data['node_3'] = np.where((data['node_2'] == 'morning_winter') & (data['hour'] < 6), 'early_morning_winter',\n",
    "                 np.where((data['node_2'] == 'afternoon_summer') & (data['hour'] > 18), 'evening_summer',\n",
    "                 data['node_2']))\n",
    "\n",
    "# Verificar número de nodos finales\n",
    "print(\"\\nNodos finales y sus registros:\")\n",
    "print(data['node_3'].value_counts())\n",
    "\n",
    "# Analizar promedios de 'total' por nodo final\n",
    "print(\"\\nPromedio de 'total' por nodo final:\")\n",
    "print(data.groupby('node_3')['total'].mean())\n",
    "\n",
    "# Obtener promedios de 'total' por nodo\n",
    "node_means = data.groupby('node_3')['total'].mean()\n",
    "\n"
   ]
  },
  {
   "cell_type": "markdown",
   "metadata": {},
   "source": [
    "### Punto 5 - Árbol de decisión con librería\n",
    "En la celda 5 entrene un árbol de decisiones con la **librería sklearn**, usando las variables predictoras \"season\" y \"hour\" y calibre los parámetros que considere conveniente para obtener un mejor desempeño. Recuerde dividir los datos en conjuntos de entrenamiento y validación para esto. Comente el desempeño del modelo con alguna métrica de desempeño de modelos de regresión y compare desempeño con el modelo del punto 3."
   ]
  },
  {
   "cell_type": "code",
   "execution_count": 52,
   "metadata": {},
   "outputs": [
    {
     "name": "stdout",
     "output_type": "stream",
     "text": [
      "Desempeño inicial del modelo:\n",
      "RMSE: 115.99\n",
      "R²: 0.59\n",
      "\n",
      "Mejores hiperparámetros encontrados:\n",
      "{'max_depth': 10, 'min_samples_leaf': 1, 'min_samples_split': 2}\n",
      "\n",
      "Desempeño del modelo ajustado:\n",
      "RMSE: 115.99\n",
      "R²: 0.59\n"
     ]
    }
   ],
   "source": [
    "# Celda 5\n",
    "from sklearn.model_selection import train_test_split, cross_val_score, GridSearchCV\n",
    "from sklearn.tree import DecisionTreeRegressor\n",
    "from sklearn.metrics import mean_squared_error, r2_score\n",
    "\n",
    "# Seleccionar las variables predictoras y la variable de respuesta\n",
    "X = bikes[['season', 'hour']]\n",
    "y = bikes['total']\n",
    "\n",
    "# Dividir los datos en conjuntos de entrenamiento y prueba\n",
    "X_train, X_test, y_train, y_test = train_test_split(X, y, test_size=0.2, random_state=42)\n",
    "\n",
    "# Entrenar el modelo de árbol de decisiones inicial\n",
    "tree_model = DecisionTreeRegressor(random_state=42)\n",
    "tree_model.fit(X_train, y_train)\n",
    "\n",
    "# Predicciones en el conjunto de prueba\n",
    "y_pred = tree_model.predict(X_test)\n",
    "\n",
    "# Métricas de desempeño inicial\n",
    "rmse = mean_squared_error(y_test, y_pred, squared=False)\n",
    "r2 = r2_score(y_test, y_pred)\n",
    "\n",
    "print(\"Desempeño inicial del modelo:\")\n",
    "print(f\"RMSE: {rmse:.2f}\")\n",
    "print(f\"R²: {r2:.2f}\")\n",
    "\n",
    "# Validación cruzada y ajuste de hiperparámetros con GridSearchCV\n",
    "param_grid = {\n",
    "    'max_depth': [3, 5, 7, 10],\n",
    "    'min_samples_split': [2, 5, 10],\n",
    "    'min_samples_leaf': [1, 2, 4]\n",
    "}\n",
    "\n",
    "grid_search = GridSearchCV(\n",
    "    estimator=DecisionTreeRegressor(random_state=42),\n",
    "    param_grid=param_grid,\n",
    "    scoring='r2',\n",
    "    cv=5\n",
    ")\n",
    "\n",
    "grid_search.fit(X_train, y_train)\n",
    "\n",
    "# Mejor modelo encontrado\n",
    "best_model = grid_search.best_estimator_\n",
    "\n",
    "print(\"\\nMejores hiperparámetros encontrados:\")\n",
    "print(grid_search.best_params_)\n",
    "\n",
    "# Predicciones con el modelo ajustado\n",
    "y_pred_best = best_model.predict(X_test)\n",
    "\n",
    "# Métricas de desempeño del modelo ajustado\n",
    "rmse_best = mean_squared_error(y_test, y_pred_best, squared=False)\n",
    "r2_best = r2_score(y_test, y_pred_best)\n",
    "\n",
    "print(\"\\nDesempeño del modelo ajustado:\")\n",
    "print(f\"RMSE: {rmse_best:.2f}\")\n",
    "print(f\"R²: {r2_best:.2f}\")\n"
   ]
  },
  {
   "cell_type": "markdown",
   "metadata": {},
   "source": [
    "Comparando las métricas de desempeño de ambos modelos, podemos concluir que el Árbol de Decisión supera a la Regresión Lineal en términos de precisión. Esto se debe a que presenta un menor error (RMSE = 115.99) y una mayor capacidad explicativa (R² = 0.59), lo que indica que captura mejor la relación entre las variables predictoras y la variable objetivo. En contraste, la Regresión Lineal muestra un error más alto (RMSE = 156.16) y explica solo el 24.6% de la variabilidad en los datos, lo que sugiere que la relación no es completamente lineal y que el Árbol de Decisión modela mejor los patrones"
   ]
  },
  {
   "cell_type": "markdown",
   "metadata": {},
   "source": [
    "## Parte B - Métodos de ensamblajes\n",
    "En esta parte del taller se usará el conjunto de datos de Popularidad de Noticias Online. El objetivo es predecir si la notica es popular o no, la popularidad está dada por la cantidad de reacciones en redes sociales. Para más detalles puede visitar el siguiente enlace: [datos](https://archive.ics.uci.edu/ml/datasets/online+news+popularity)."
   ]
  },
  {
   "cell_type": "markdown",
   "metadata": {},
   "source": [
    "### Datos popularidad de noticias"
   ]
  },
  {
   "cell_type": "code",
   "execution_count": 64,
   "metadata": {},
   "outputs": [
    {
     "data": {
      "text/html": [
       "<div>\n",
       "<style scoped>\n",
       "    .dataframe tbody tr th:only-of-type {\n",
       "        vertical-align: middle;\n",
       "    }\n",
       "\n",
       "    .dataframe tbody tr th {\n",
       "        vertical-align: top;\n",
       "    }\n",
       "\n",
       "    .dataframe thead th {\n",
       "        text-align: right;\n",
       "    }\n",
       "</style>\n",
       "<table border=\"1\" class=\"dataframe\">\n",
       "  <thead>\n",
       "    <tr style=\"text-align: right;\">\n",
       "      <th></th>\n",
       "      <th>url</th>\n",
       "      <th>timedelta</th>\n",
       "      <th>n_tokens_title</th>\n",
       "      <th>n_tokens_content</th>\n",
       "      <th>n_unique_tokens</th>\n",
       "      <th>n_non_stop_words</th>\n",
       "      <th>n_non_stop_unique_tokens</th>\n",
       "      <th>num_hrefs</th>\n",
       "      <th>num_self_hrefs</th>\n",
       "      <th>num_imgs</th>\n",
       "      <th>...</th>\n",
       "      <th>min_positive_polarity</th>\n",
       "      <th>max_positive_polarity</th>\n",
       "      <th>avg_negative_polarity</th>\n",
       "      <th>min_negative_polarity</th>\n",
       "      <th>max_negative_polarity</th>\n",
       "      <th>title_subjectivity</th>\n",
       "      <th>title_sentiment_polarity</th>\n",
       "      <th>abs_title_subjectivity</th>\n",
       "      <th>abs_title_sentiment_polarity</th>\n",
       "      <th>Popular</th>\n",
       "    </tr>\n",
       "  </thead>\n",
       "  <tbody>\n",
       "    <tr>\n",
       "      <th>0</th>\n",
       "      <td>http://mashable.com/2014/12/10/cia-torture-rep...</td>\n",
       "      <td>28.0</td>\n",
       "      <td>9.0</td>\n",
       "      <td>188.0</td>\n",
       "      <td>0.732620</td>\n",
       "      <td>1.0</td>\n",
       "      <td>0.844262</td>\n",
       "      <td>5.0</td>\n",
       "      <td>1.0</td>\n",
       "      <td>1.0</td>\n",
       "      <td>...</td>\n",
       "      <td>0.200000</td>\n",
       "      <td>0.80</td>\n",
       "      <td>-0.487500</td>\n",
       "      <td>-0.60</td>\n",
       "      <td>-0.250000</td>\n",
       "      <td>0.9</td>\n",
       "      <td>0.8</td>\n",
       "      <td>0.4</td>\n",
       "      <td>0.8</td>\n",
       "      <td>1</td>\n",
       "    </tr>\n",
       "    <tr>\n",
       "      <th>1</th>\n",
       "      <td>http://mashable.com/2013/10/18/bitlock-kicksta...</td>\n",
       "      <td>447.0</td>\n",
       "      <td>7.0</td>\n",
       "      <td>297.0</td>\n",
       "      <td>0.653199</td>\n",
       "      <td>1.0</td>\n",
       "      <td>0.815789</td>\n",
       "      <td>9.0</td>\n",
       "      <td>4.0</td>\n",
       "      <td>1.0</td>\n",
       "      <td>...</td>\n",
       "      <td>0.160000</td>\n",
       "      <td>0.50</td>\n",
       "      <td>-0.135340</td>\n",
       "      <td>-0.40</td>\n",
       "      <td>-0.050000</td>\n",
       "      <td>0.1</td>\n",
       "      <td>-0.1</td>\n",
       "      <td>0.4</td>\n",
       "      <td>0.1</td>\n",
       "      <td>0</td>\n",
       "    </tr>\n",
       "    <tr>\n",
       "      <th>2</th>\n",
       "      <td>http://mashable.com/2013/07/24/google-glass-po...</td>\n",
       "      <td>533.0</td>\n",
       "      <td>11.0</td>\n",
       "      <td>181.0</td>\n",
       "      <td>0.660377</td>\n",
       "      <td>1.0</td>\n",
       "      <td>0.775701</td>\n",
       "      <td>4.0</td>\n",
       "      <td>3.0</td>\n",
       "      <td>1.0</td>\n",
       "      <td>...</td>\n",
       "      <td>0.136364</td>\n",
       "      <td>1.00</td>\n",
       "      <td>0.000000</td>\n",
       "      <td>0.00</td>\n",
       "      <td>0.000000</td>\n",
       "      <td>0.3</td>\n",
       "      <td>1.0</td>\n",
       "      <td>0.2</td>\n",
       "      <td>1.0</td>\n",
       "      <td>0</td>\n",
       "    </tr>\n",
       "    <tr>\n",
       "      <th>3</th>\n",
       "      <td>http://mashable.com/2013/11/21/these-are-the-m...</td>\n",
       "      <td>413.0</td>\n",
       "      <td>12.0</td>\n",
       "      <td>781.0</td>\n",
       "      <td>0.497409</td>\n",
       "      <td>1.0</td>\n",
       "      <td>0.677350</td>\n",
       "      <td>10.0</td>\n",
       "      <td>3.0</td>\n",
       "      <td>1.0</td>\n",
       "      <td>...</td>\n",
       "      <td>0.100000</td>\n",
       "      <td>1.00</td>\n",
       "      <td>-0.195701</td>\n",
       "      <td>-0.40</td>\n",
       "      <td>-0.071429</td>\n",
       "      <td>0.0</td>\n",
       "      <td>0.0</td>\n",
       "      <td>0.5</td>\n",
       "      <td>0.0</td>\n",
       "      <td>0</td>\n",
       "    </tr>\n",
       "    <tr>\n",
       "      <th>4</th>\n",
       "      <td>http://mashable.com/2014/02/11/parking-ticket-...</td>\n",
       "      <td>331.0</td>\n",
       "      <td>8.0</td>\n",
       "      <td>177.0</td>\n",
       "      <td>0.685714</td>\n",
       "      <td>1.0</td>\n",
       "      <td>0.830357</td>\n",
       "      <td>3.0</td>\n",
       "      <td>2.0</td>\n",
       "      <td>1.0</td>\n",
       "      <td>...</td>\n",
       "      <td>0.100000</td>\n",
       "      <td>0.55</td>\n",
       "      <td>-0.175000</td>\n",
       "      <td>-0.25</td>\n",
       "      <td>-0.100000</td>\n",
       "      <td>0.0</td>\n",
       "      <td>0.0</td>\n",
       "      <td>0.5</td>\n",
       "      <td>0.0</td>\n",
       "      <td>0</td>\n",
       "    </tr>\n",
       "  </tbody>\n",
       "</table>\n",
       "<p>5 rows × 61 columns</p>\n",
       "</div>"
      ],
      "text/plain": [
       "                                                 url  timedelta  \\\n",
       "0  http://mashable.com/2014/12/10/cia-torture-rep...       28.0   \n",
       "1  http://mashable.com/2013/10/18/bitlock-kicksta...      447.0   \n",
       "2  http://mashable.com/2013/07/24/google-glass-po...      533.0   \n",
       "3  http://mashable.com/2013/11/21/these-are-the-m...      413.0   \n",
       "4  http://mashable.com/2014/02/11/parking-ticket-...      331.0   \n",
       "\n",
       "   n_tokens_title  n_tokens_content  n_unique_tokens  n_non_stop_words  \\\n",
       "0             9.0             188.0         0.732620               1.0   \n",
       "1             7.0             297.0         0.653199               1.0   \n",
       "2            11.0             181.0         0.660377               1.0   \n",
       "3            12.0             781.0         0.497409               1.0   \n",
       "4             8.0             177.0         0.685714               1.0   \n",
       "\n",
       "   n_non_stop_unique_tokens  num_hrefs  num_self_hrefs  num_imgs  ...  \\\n",
       "0                  0.844262        5.0             1.0       1.0  ...   \n",
       "1                  0.815789        9.0             4.0       1.0  ...   \n",
       "2                  0.775701        4.0             3.0       1.0  ...   \n",
       "3                  0.677350       10.0             3.0       1.0  ...   \n",
       "4                  0.830357        3.0             2.0       1.0  ...   \n",
       "\n",
       "   min_positive_polarity  max_positive_polarity  avg_negative_polarity  \\\n",
       "0               0.200000                   0.80              -0.487500   \n",
       "1               0.160000                   0.50              -0.135340   \n",
       "2               0.136364                   1.00               0.000000   \n",
       "3               0.100000                   1.00              -0.195701   \n",
       "4               0.100000                   0.55              -0.175000   \n",
       "\n",
       "   min_negative_polarity  max_negative_polarity  title_subjectivity  \\\n",
       "0                  -0.60              -0.250000                 0.9   \n",
       "1                  -0.40              -0.050000                 0.1   \n",
       "2                   0.00               0.000000                 0.3   \n",
       "3                  -0.40              -0.071429                 0.0   \n",
       "4                  -0.25              -0.100000                 0.0   \n",
       "\n",
       "   title_sentiment_polarity  abs_title_subjectivity  \\\n",
       "0                       0.8                     0.4   \n",
       "1                      -0.1                     0.4   \n",
       "2                       1.0                     0.2   \n",
       "3                       0.0                     0.5   \n",
       "4                       0.0                     0.5   \n",
       "\n",
       "   abs_title_sentiment_polarity  Popular  \n",
       "0                           0.8        1  \n",
       "1                           0.1        0  \n",
       "2                           1.0        0  \n",
       "3                           0.0        0  \n",
       "4                           0.0        0  \n",
       "\n",
       "[5 rows x 61 columns]"
      ]
     },
     "execution_count": 64,
     "metadata": {},
     "output_type": "execute_result"
    }
   ],
   "source": [
    "# Lectura de la información de archivo .csv\n",
    "df = pd.read_csv('https://raw.githubusercontent.com/davidzarruk/MIAD_ML_NLP_2023/main/datasets/mashable.csv', index_col=0)\n",
    "df.head()"
   ]
  },
  {
   "cell_type": "code",
   "execution_count": 65,
   "metadata": {},
   "outputs": [
    {
     "data": {
      "text/plain": [
       "0.5"
      ]
     },
     "execution_count": 65,
     "metadata": {},
     "output_type": "execute_result"
    }
   ],
   "source": [
    "# Definición variable de interes y variables predictoras\n",
    "X = df.drop(['url', 'Popular'], axis=1)\n",
    "y = df['Popular']\n",
    "y.mean()"
   ]
  },
  {
   "cell_type": "code",
   "execution_count": 66,
   "metadata": {},
   "outputs": [],
   "source": [
    "# División de la muestra en set de entrenamiento y prueba\n",
    "from sklearn.model_selection import train_test_split\n",
    "X_train, X_test, y_train, y_test = train_test_split(X, y, random_state=1)"
   ]
  },
  {
   "cell_type": "markdown",
   "metadata": {},
   "source": [
    "### Punto 6 - Árbol de decisión y regresión logística\n",
    "En la celda 6 construya un árbol de decisión y una regresión logística. Para el árbol calibre al menos un parámetro y evalúe el desempeño de cada modelo usando las métricas de Accuracy y F1-Score."
   ]
  },
  {
   "cell_type": "code",
   "execution_count": 70,
   "metadata": {},
   "outputs": [
    {
     "name": "stdout",
     "output_type": "stream",
     "text": [
      "Árbol de Decisión:\n",
      "Accuracy: 0.64\n",
      "F1-Score: 0.66\n",
      "\n",
      "Regresión Logística:\n",
      "Accuracy: 0.62\n",
      "F1-Score: 0.60\n"
     ]
    }
   ],
   "source": [
    "# Celda 6\n",
    "from sklearn.tree import DecisionTreeClassifier\n",
    "from sklearn.linear_model import LogisticRegression\n",
    "from sklearn.metrics import accuracy_score, f1_score, classification_report\n",
    "from sklearn.model_selection import GridSearchCV\n",
    "\n",
    "# Modelo 1: Árbol de Decisión\n",
    "# Definir el grid de hiperparámetros\n",
    "param_grid = {\n",
    "    'max_depth': [3, 5, 7, 10],       \n",
    "    'min_samples_split': [2, 5, 10]    \n",
    "}\n",
    "\n",
    "# Usar GridSearchCV para buscar los mejores parámetros\n",
    "grid_search_tree = GridSearchCV(\n",
    "    estimator=DecisionTreeClassifier(random_state=1),\n",
    "    param_grid=param_grid,\n",
    "    scoring='f1',  # F1-Score como métrica de evaluación\n",
    "    cv=5           # Validación cruzada con 5 particiones\n",
    ")\n",
    "\n",
    "# Ajustar el árbol datos de entrenamiento\n",
    "grid_search_tree.fit(X_train, y_train)\n",
    "\n",
    "# Obtener el mejor modelo del árbol\n",
    "best_tree = grid_search_tree.best_estimator_\n",
    "\n",
    "# Predicciones\n",
    "y_pred_tree = best_tree.predict(X_test)\n",
    "\n",
    "# Métricas de desempeño\n",
    "accuracy_tree = accuracy_score(y_test, y_pred_tree)\n",
    "f1_tree = f1_score(y_test, y_pred_tree)\n",
    "\n",
    "print(\"Árbol de Decisión:\")\n",
    "print(f\"Accuracy: {accuracy_tree:.2f}\")\n",
    "print(f\"F1-Score: {f1_tree:.2f}\")\n",
    "\n",
    "# Modelo 2: Regresión Logística\n",
    "# Crear y ajustar el modelo de regresión logística\n",
    "logistic_model = LogisticRegression(random_state=1, max_iter=1000)\n",
    "logistic_model.fit(X_train, y_train)\n",
    "\n",
    "# Predicciones conjunto de prueba\n",
    "y_pred_logistic = logistic_model.predict(X_test)\n",
    "\n",
    "# Métricas de desempeño\n",
    "accuracy_logistic = accuracy_score(y_test, y_pred_logistic)\n",
    "f1_logistic = f1_score(y_test, y_pred_logistic)\n",
    "\n",
    "print(\"\\nRegresión Logística:\")\n",
    "print(f\"Accuracy: {accuracy_logistic:.2f}\")\n",
    "print(f\"F1-Score: {f1_logistic:.2f}\")\n"
   ]
  },
  {
   "cell_type": "markdown",
   "metadata": {},
   "source": [
    "El Árbol de Decisión supera a la Regresión Logística tanto en Accuracy como en F1-Score. En este caso es fue mejor para capturar los patrones de los datos que al parecer no tienen un comportamiento lineal."
   ]
  },
  {
   "cell_type": "markdown",
   "metadata": {},
   "source": [
    "### Punto 7 - Votación Mayoritaria\n",
    "En la celda 7 elabore un esamble con la metodología de **Votación mayoritaria** compuesto por 300 muestras bagged donde:\n",
    "\n",
    "-las primeras 100 muestras vienen de árboles de decisión donde max_depth tome un valor de su elección\\\n",
    "-las segundas 100 muestras vienen de árboles de decisión donde min_samples_leaf tome un valor de su elección\\\n",
    "-las últimas 100 muestras vienen de regresiones logísticas\n",
    "\n",
    "Evalúe cada uno de los tres modelos de manera independiente utilizando las métricas de Accuracy y F1-Score, luego evalúe el ensamble de modelos y compare los resultados. \n",
    "\n",
    "Nota: \n",
    "\n",
    "Para este ensamble de 300 modelos, deben hacer votación mayoritaria. Esto lo pueden hacer de distintas maneras. La más \"fácil\" es haciendo la votación \"manualmente\", como se hace a partir del minuto 5:45 del video de Ejemplo práctico de emsablajes en Coursera. Digo que es la más fácil porque si hacen la votación mayoritaria sobre las 300 predicciones van a obtener lo que se espera.\n",
    "\n",
    "Otra opción es: para cada uno de los 3 tipos de modelos, entrenar un ensamble de 100 modelos cada uno. Predecir para cada uno de esos tres ensambles y luego predecir como un ensamble de los 3 ensambles. La cuestión es que la votación mayoritaria al usar los 3 ensambles no necesariamente va a generar el mismo resultado que si hacen la votación mayoritaria directamente sobre los 300 modelos. Entonces, para los que quieran hacer esto, deben hacer ese último cálculo con cuidado.\n",
    "\n",
    "Para los que quieran hacerlo como ensamble de ensambles, digo que se debe hacer el ensamble final con cuidado por lo siguiente. Supongamos que:\n",
    "\n",
    "* para los 100 árboles del primer tipo, la votación mayoritaria es: 55% de los modelos predicen que la clase de una observación es \"1\"\n",
    "* para los 100 árboles del segundo tipo, la votación mayoritaria es: 55% de los modelos predicen que la clase de una observación es \"1\"\n",
    "* para las 100 regresiones logísticas, la votación mayoritaria es: 10% de los modelos predicen que la clase de una observación es \"1\"\n",
    "\n",
    "Si se hace la votación mayoritaria de los 300 modelos, la predicción de esa observación debería ser: (100*55%+100*55%+100*10%)/300 = 40% de los modelos votan porque la predicción debería ser \"1\". Es decir, la predicción del ensamble es \"0\" (dado que menos del 50% de modelos predijo un 1).\n",
    "\n",
    "Sin embargo, si miramos cada ensamble por separado, el primer ensamble predice \"1\", el segundo ensamble predice \"1\" y el último ensamble predice \"0\". Si hago votación mayoritaria sobre esto, la predicción va a ser \"1\", lo cual es distinto a si se hace la votación mayoritaria sobre los 300 modelos."
   ]
  },
  {
   "cell_type": "code",
   "execution_count": 72,
   "metadata": {},
   "outputs": [
    {
     "name": "stdout",
     "output_type": "stream",
     "text": [
      "Desempeño de los modelos individuales:\n",
      "Árboles (max_depth): Accuracy = 0.64, F1-Score = 0.66\n",
      "Árboles (min_samples_leaf): Accuracy = 0.57, F1-Score = 0.57\n",
      "Regresiones logísticas: Accuracy = 0.62, F1-Score = 0.60\n",
      "\n",
      "Desempeño del Ensamble:\n",
      "Accuracy: 0.63\n",
      "F1-Score: 0.64\n"
     ]
    }
   ],
   "source": [
    "# Celda 7\n",
    "from sklearn.tree import DecisionTreeClassifier\n",
    "from sklearn.linear_model import LogisticRegression\n",
    "from sklearn.ensemble import VotingClassifier\n",
    "from sklearn.metrics import accuracy_score, f1_score\n",
    "from sklearn.model_selection import train_test_split\n",
    "\n",
    "#  Creación de los modelos individuales ---\n",
    "# Crear 100 árboles de decisión con max_depth\n",
    "decision_trees_depth = [\n",
    "    DecisionTreeClassifier(max_depth=5, random_state=i) for i in range(100)\n",
    "]\n",
    "\n",
    "# Crear 100 árboles de decisión con min_samples_leaf\n",
    "decision_trees_leaf = [\n",
    "    DecisionTreeClassifier(min_samples_leaf=10, random_state=i) for i in range(100)\n",
    "]\n",
    "\n",
    "# Crear 100 modelos de regresión logística\n",
    "logistic_regressions = [\n",
    "    LogisticRegression(max_iter=1000, random_state=i) for i in range(100)\n",
    "]\n",
    "\n",
    "#  Entrenar los modelos individuales ---\n",
    "# Entrenar los árboles de decisión con max_depth\n",
    "for model in decision_trees_depth:\n",
    "    model.fit(X_train, y_train)\n",
    "\n",
    "# Entrenar los árboles de decisión con min_samples_leaf\n",
    "for model in decision_trees_leaf:\n",
    "    model.fit(X_train, y_train)\n",
    "\n",
    "# Entrenar las regresiones logísticas\n",
    "for model in logistic_regressions:\n",
    "    model.fit(X_train, y_train)\n",
    "\n",
    "#  Evaluar los modelos individuales ---\n",
    "# Evaluar los árboles con max_depth\n",
    "y_pred_depth = [model.predict(X_test) for model in decision_trees_depth]\n",
    "accuracy_depth = np.mean([accuracy_score(y_test, preds) for preds in y_pred_depth])\n",
    "f1_depth = np.mean([f1_score(y_test, preds) for preds in y_pred_depth])\n",
    "\n",
    "# Evaluar los árboles con min_samples_leaf\n",
    "y_pred_leaf = [model.predict(X_test) for model in decision_trees_leaf]\n",
    "accuracy_leaf = np.mean([accuracy_score(y_test, preds) for preds in y_pred_leaf])\n",
    "f1_leaf = np.mean([f1_score(y_test, preds) for preds in y_pred_leaf])\n",
    "\n",
    "# Evaluar las regresiones logísticas\n",
    "y_pred_logistic = [model.predict(X_test) for model in logistic_regressions]\n",
    "accuracy_logistic = np.mean([accuracy_score(y_test, preds) for preds in y_pred_logistic])\n",
    "f1_logistic = np.mean([f1_score(y_test, preds) for preds in y_pred_logistic])\n",
    "\n",
    "print(\"Desempeño de los modelos individuales:\")\n",
    "print(f\"Árboles (max_depth): Accuracy = {accuracy_depth:.2f}, F1-Score = {f1_depth:.2f}\")\n",
    "print(f\"Árboles (min_samples_leaf): Accuracy = {accuracy_leaf:.2f}, F1-Score = {f1_leaf:.2f}\")\n",
    "print(f\"Regresiones logísticas: Accuracy = {accuracy_logistic:.2f}, F1-Score = {f1_logistic:.2f}\")\n",
    "\n",
    "# Ensamble con Votación Mayoritaria ---\n",
    "# Crear un ensamble con los 300 modelos\n",
    "voting_clf = VotingClassifier(\n",
    "    estimators=[\n",
    "        ('tree_depth', decision_trees_depth[0]),  # Representar cada grupo\n",
    "        ('tree_leaf', decision_trees_leaf[0]),\n",
    "        ('logistic', logistic_regressions[0]),\n",
    "    ],\n",
    "    voting='hard'  # Votación mayoritaria\n",
    ")\n",
    "\n",
    "# Entrenar el ensamble\n",
    "voting_clf.fit(X_train, y_train)\n",
    "\n",
    "# Predecir y evaluar el ensamble\n",
    "y_pred_ensemble = voting_clf.predict(X_test)\n",
    "accuracy_ensemble = accuracy_score(y_test, y_pred_ensemble)\n",
    "f1_ensemble = f1_score(y_test, y_pred_ensemble)\n",
    "\n",
    "print(\"\\nDesempeño del Ensamble:\")\n",
    "print(f\"Accuracy: {accuracy_ensemble:.2f}\")\n",
    "print(f\"F1-Score: {f1_ensemble:.2f}\")\n"
   ]
  },
  {
   "cell_type": "markdown",
   "metadata": {},
   "source": [
    "### Punto 8 - Votación Ponderada\n",
    "En la celda 8 elabore un ensamble con la metodología de **Votación ponderada** compuesto por 300 muestras bagged para los mismos tres escenarios del punto 7. Evalúe los modelos utilizando las métricas de Accuracy y F1-Score"
   ]
  },
  {
   "cell_type": "code",
   "execution_count": 76,
   "metadata": {},
   "outputs": [
    {
     "name": "stdout",
     "output_type": "stream",
     "text": [
      "\n",
      "Desempeño del Ensamble:\n",
      "Accuracy: 0.61\n",
      "F1-Score: 0.62\n",
      "\n",
      "Desempeño de los modelos individuales:\n",
      "Árboles (max_depth): Accuracy = 0.64, F1-Score = 0.66\n",
      "Árboles (min_samples_leaf): Accuracy = 0.57, F1-Score = 0.57\n",
      "Regresiones logísticas: Accuracy = 0.62, F1-Score = 0.60\n"
     ]
    }
   ],
   "source": [
    "# Celda 8\n",
    "from sklearn.tree import DecisionTreeClassifier\n",
    "from sklearn.linear_model import LogisticRegression\n",
    "from sklearn.ensemble import VotingClassifier\n",
    "from sklearn.metrics import accuracy_score, f1_score\n",
    "from sklearn.model_selection import train_test_split\n",
    "\n",
    "#  Crear los modelos individuales ---\n",
    "# 100 árboles de decisión con max_depth\n",
    "decision_trees_depth = [\n",
    "    ('tree_depth_' + str(i), DecisionTreeClassifier(max_depth=5, random_state=i)) for i in range(100)\n",
    "]\n",
    "\n",
    "# 100 árboles de decisión con min_samples_leaf\n",
    "decision_trees_leaf = [\n",
    "    ('tree_leaf_' + str(i), DecisionTreeClassifier(min_samples_leaf=10, random_state=i)) for i in range(100)\n",
    "]\n",
    "\n",
    "# 100 regresiones logísticas\n",
    "logistic_regressions = [\n",
    "    ('logistic_' + str(i), LogisticRegression(max_iter=1000, random_state=i)) for i in range(100)\n",
    "]\n",
    "\n",
    "#  Crear el ensamble con Votación Ponderada ---\n",
    "# Definir los pesos para cada grupo de modelos\n",
    "weights = [2] * 100 + [1.5] * 100 + [1] * 100\n",
    "\n",
    "# Combinar los modelos en una lista\n",
    "models = decision_trees_depth + decision_trees_leaf + logistic_regressions\n",
    "\n",
    "# Crear el ensamble usando VotingClassifier con votación ponderada\n",
    "voting_clf = VotingClassifier(\n",
    "    estimators=models,\n",
    "    voting='soft',  # Para usar probabilidades y ponderación\n",
    "    weights=weights\n",
    ")\n",
    "\n",
    "# Entrenar el ensamble\n",
    "voting_clf.fit(X_train, y_train)\n",
    "\n",
    "#  Evaluar los modelos ---\n",
    "# Evaluar el ensamble\n",
    "y_pred_ensemble = voting_clf.predict(X_test)\n",
    "accuracy_ensemble = accuracy_score(y_test, y_pred_ensemble)\n",
    "f1_ensemble = f1_score(y_test, y_pred_ensemble)\n",
    "\n",
    "# Imprimir métricas del ensamble\n",
    "print(\"\\nDesempeño del Ensamble:\")\n",
    "print(f\"Accuracy: {accuracy_ensemble:.2f}\")\n",
    "print(f\"F1-Score: {f1_ensemble:.2f}\")\n",
    "\n",
    "# Evaluar individualmente los tres grupos ---\n",
    "# Evaluar árboles con max_depth\n",
    "accuracy_depth = []\n",
    "f1_depth = []\n",
    "\n",
    "for _, model in decision_trees_depth:\n",
    "    model.fit(X_train, y_train)\n",
    "    y_pred = model.predict(X_test)\n",
    "    accuracy_depth.append(accuracy_score(y_test, y_pred))\n",
    "    f1_depth.append(f1_score(y_test, y_pred))\n",
    "\n",
    "accuracy_depth_mean = np.mean(accuracy_depth)\n",
    "f1_depth_mean = np.mean(f1_depth)\n",
    "\n",
    "# Evaluar árboles con min_samples_leaf\n",
    "accuracy_leaf = []\n",
    "f1_leaf = []\n",
    "\n",
    "for _, model in decision_trees_leaf:\n",
    "    model.fit(X_train, y_train)\n",
    "    y_pred = model.predict(X_test)\n",
    "    accuracy_leaf.append(accuracy_score(y_test, y_pred))\n",
    "    f1_leaf.append(f1_score(y_test, y_pred))\n",
    "\n",
    "accuracy_leaf_mean = np.mean(accuracy_leaf)\n",
    "f1_leaf_mean = np.mean(f1_leaf)\n",
    "\n",
    "# Evaluar regresiones logísticas\n",
    "accuracy_logistic = []\n",
    "f1_logistic = []\n",
    "\n",
    "for _, model in logistic_regressions:\n",
    "    model.fit(X_train, y_train)\n",
    "    y_pred = model.predict(X_test)\n",
    "    accuracy_logistic.append(accuracy_score(y_test, y_pred))\n",
    "    f1_logistic.append(f1_score(y_test, y_pred))\n",
    "\n",
    "accuracy_logistic_mean = np.mean(accuracy_logistic)\n",
    "f1_logistic_mean = np.mean(f1_logistic)\n",
    "\n",
    "# Imprimir métricas individuales\n",
    "print(\"\\nDesempeño de los modelos individuales:\")\n",
    "print(f\"Árboles (max_depth): Accuracy = {accuracy_depth_mean:.2f}, F1-Score = {f1_depth_mean:.2f}\")\n",
    "print(f\"Árboles (min_samples_leaf): Accuracy = {accuracy_leaf_mean:.2f}, F1-Score = {f1_leaf_mean:.2f}\")\n",
    "print(f\"Regresiones logísticas: Accuracy = {accuracy_logistic_mean:.2f}, F1-Score = {f1_logistic_mean:.2f}\")\n"
   ]
  },
  {
   "cell_type": "markdown",
   "metadata": {},
   "source": [
    "### Punto 9 - Comparación y análisis de resultados\n",
    "En la celda 9 comente sobre los resultados obtenidos con las metodologías usadas en los puntos 7 y 8, compare los resultados y enuncie posibles ventajas o desventajas de cada una de ellas."
   ]
  },
  {
   "cell_type": "markdown",
   "metadata": {},
   "source": [
    "En conclusión, la votación mayoritaria demuestra un desempeño superior, aunque por un margen pequeño, en comparación con la votación ponderada. Esto sugiere que, aunque la votación mayoritaria clasifica correctamente un mayor número de casos (Accuracy = 0.63 vs. 0.61), la votación ponderada podría alcanzar resultados similares o incluso superar a la mayoría si los pesos asignados a los modelos se ajustan cuidadosamente.\n",
    "\n",
    "Adicionalmente, la votación mayoritaria logra un F1-Score más alto (0.64 vs. 0.62), reflejando un mejor balance entre precisión (precision) y sensibilidad (recall). Esto indica que su capacidad para mantener un equilibrio en la clasificación de los datos es ligeramente mejor que la ponderada, consolidándola como la opción más adecuada.\n",
    "\n",
    "Sin embargo, el enfoque de votación ponderada tiene la ventaja de proporcionar flexibilidad, permitiendo asignar mayor influencia a los modelos que muestran mejor desempeño."
   ]
  },
  {
   "cell_type": "code",
   "execution_count": null,
   "metadata": {},
   "outputs": [],
   "source": []
  }
 ],
 "metadata": {
  "kernelspec": {
   "display_name": "Python 3 (ipykernel)",
   "language": "python",
   "name": "python3"
  },
  "language_info": {
   "codemirror_mode": {
    "name": "ipython",
    "version": 3
   },
   "file_extension": ".py",
   "mimetype": "text/x-python",
   "name": "python",
   "nbconvert_exporter": "python",
   "pygments_lexer": "ipython3",
   "version": "3.9.0"
  }
 },
 "nbformat": 4,
 "nbformat_minor": 4
}
