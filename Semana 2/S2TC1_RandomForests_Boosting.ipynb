{
 "cells": [
  {
   "cell_type": "markdown",
   "metadata": {
    "id": "WsbwDkS40UzJ"
   },
   "source": [
    "![image info](https://raw.githubusercontent.com/albahnsen/MIAD_ML_and_NLP/main/images/banner_1.png)"
   ]
  },
  {
   "cell_type": "markdown",
   "metadata": {
    "id": "Y_L_jbn_0UzN"
   },
   "source": [
    "# Taller: Construcción e implementación de modelos Bagging, Random Forest y XGBoost\n",
    "\n",
    "En este taller podrán poner en práctica sus conocimientos sobre la construcción e implementación de modelos de Bagging, Random Forest y XGBoost. El taller está constituido por 8 puntos, en los cuales deberan seguir las intrucciones de cada numeral para su desarrollo."
   ]
  },
  {
   "cell_type": "markdown",
   "metadata": {
    "id": "4cOL-6VW0UzO"
   },
   "source": [
    "## Datos predicción precio de automóviles\n",
    "\n",
    "En este taller se usará el conjunto de datos de Car Listings de Kaggle donde cada observación representa el precio de un automóvil teniendo en cuenta distintas variables como año, marca, modelo, entre otras. El objetivo es predecir el precio del automóvil. Para más detalles puede visitar el siguiente enlace: [datos](https://www.kaggle.com/jpayne/852k-used-car-listings)."
   ]
  },
  {
   "cell_type": "code",
   "execution_count": 1,
   "metadata": {
    "id": "6uEQ-hF20UzQ"
   },
   "outputs": [],
   "source": [
    "import warnings\n",
    "warnings.filterwarnings('ignore')"
   ]
  },
  {
   "cell_type": "code",
   "execution_count": 1,
   "metadata": {
    "colab": {
     "base_uri": "https://localhost:8080/",
     "height": 206
    },
    "id": "9Qg8GY8U0UzS",
    "outputId": "a1b4cd3d-5f58-42ad-c355-38b516d96699"
   },
   "outputs": [
    {
     "data": {
      "text/html": [
       "<div>\n",
       "<style scoped>\n",
       "    .dataframe tbody tr th:only-of-type {\n",
       "        vertical-align: middle;\n",
       "    }\n",
       "\n",
       "    .dataframe tbody tr th {\n",
       "        vertical-align: top;\n",
       "    }\n",
       "\n",
       "    .dataframe thead th {\n",
       "        text-align: right;\n",
       "    }\n",
       "</style>\n",
       "<table border=\"1\" class=\"dataframe\">\n",
       "  <thead>\n",
       "    <tr style=\"text-align: right;\">\n",
       "      <th></th>\n",
       "      <th>Price</th>\n",
       "      <th>Year</th>\n",
       "      <th>Mileage</th>\n",
       "      <th>M_Camry</th>\n",
       "      <th>M_Camry4dr</th>\n",
       "      <th>M_CamryBase</th>\n",
       "      <th>M_CamryL</th>\n",
       "      <th>M_CamryLE</th>\n",
       "      <th>M_CamrySE</th>\n",
       "      <th>M_CamryXLE</th>\n",
       "    </tr>\n",
       "  </thead>\n",
       "  <tbody>\n",
       "    <tr>\n",
       "      <th>7</th>\n",
       "      <td>21995</td>\n",
       "      <td>2014</td>\n",
       "      <td>6480</td>\n",
       "      <td>0</td>\n",
       "      <td>0</td>\n",
       "      <td>0</td>\n",
       "      <td>1</td>\n",
       "      <td>0</td>\n",
       "      <td>0</td>\n",
       "      <td>0</td>\n",
       "    </tr>\n",
       "    <tr>\n",
       "      <th>11</th>\n",
       "      <td>13995</td>\n",
       "      <td>2014</td>\n",
       "      <td>39972</td>\n",
       "      <td>0</td>\n",
       "      <td>0</td>\n",
       "      <td>0</td>\n",
       "      <td>0</td>\n",
       "      <td>1</td>\n",
       "      <td>0</td>\n",
       "      <td>0</td>\n",
       "    </tr>\n",
       "    <tr>\n",
       "      <th>167</th>\n",
       "      <td>17941</td>\n",
       "      <td>2016</td>\n",
       "      <td>18989</td>\n",
       "      <td>0</td>\n",
       "      <td>0</td>\n",
       "      <td>0</td>\n",
       "      <td>0</td>\n",
       "      <td>0</td>\n",
       "      <td>1</td>\n",
       "      <td>0</td>\n",
       "    </tr>\n",
       "    <tr>\n",
       "      <th>225</th>\n",
       "      <td>12493</td>\n",
       "      <td>2014</td>\n",
       "      <td>51330</td>\n",
       "      <td>0</td>\n",
       "      <td>0</td>\n",
       "      <td>0</td>\n",
       "      <td>1</td>\n",
       "      <td>0</td>\n",
       "      <td>0</td>\n",
       "      <td>0</td>\n",
       "    </tr>\n",
       "    <tr>\n",
       "      <th>270</th>\n",
       "      <td>7994</td>\n",
       "      <td>2007</td>\n",
       "      <td>116065</td>\n",
       "      <td>0</td>\n",
       "      <td>1</td>\n",
       "      <td>0</td>\n",
       "      <td>0</td>\n",
       "      <td>0</td>\n",
       "      <td>0</td>\n",
       "      <td>0</td>\n",
       "    </tr>\n",
       "  </tbody>\n",
       "</table>\n",
       "</div>"
      ],
      "text/plain": [
       "     Price  Year  Mileage  M_Camry  M_Camry4dr  M_CamryBase  M_CamryL  \\\n",
       "7    21995  2014     6480        0           0            0         1   \n",
       "11   13995  2014    39972        0           0            0         0   \n",
       "167  17941  2016    18989        0           0            0         0   \n",
       "225  12493  2014    51330        0           0            0         1   \n",
       "270   7994  2007   116065        0           1            0         0   \n",
       "\n",
       "     M_CamryLE  M_CamrySE  M_CamryXLE  \n",
       "7            0          0           0  \n",
       "11           1          0           0  \n",
       "167          0          1           0  \n",
       "225          0          0           0  \n",
       "270          0          0           0  "
      ]
     },
     "execution_count": 1,
     "metadata": {},
     "output_type": "execute_result"
    }
   ],
   "source": [
    "# Importación de librerías\n",
    "%matplotlib inline\n",
    "import pandas as pd\n",
    "import matplotlib.pyplot as plt\n",
    "\n",
    "# Lectura de la información de archivo .csv\n",
    "data = pd.read_csv('https://raw.githubusercontent.com/albahnsen/MIAD_ML_and_NLP/main/datasets/dataTrain_carListings.zip')\n",
    "\n",
    "# Preprocesamiento de datos para el taller\n",
    "data = data.loc[data['Model'].str.contains('Camry')].drop(['Make', 'State'], axis=1)\n",
    "data = data.join(pd.get_dummies(data['Model'], prefix='M'))\n",
    "data = data.drop(['Model'], axis=1)\n",
    "\n",
    "# Visualización dataset\n",
    "data.head()"
   ]
  },
  {
   "cell_type": "code",
   "execution_count": 3,
   "metadata": {
    "colab": {
     "base_uri": "https://localhost:8080/",
     "height": 206
    },
    "id": "Wi1P0bFE0UzU",
    "outputId": "51e4ee09-6bb1-4fa6-b690-510c48de3cbf"
   },
   "outputs": [
    {
     "data": {
      "application/vnd.google.colaboratory.intrinsic+json": {
       "summary": "{\n  \"name\": \"data\",\n  \"rows\": 10495,\n  \"fields\": [\n    {\n      \"column\": \"Price\",\n      \"properties\": {\n        \"dtype\": \"number\",\n        \"std\": 3922,\n        \"min\": 5002,\n        \"max\": 32444,\n        \"num_unique_values\": 3660,\n        \"samples\": [\n          15285,\n          17966,\n          13787\n        ],\n        \"semantic_type\": \"\",\n        \"description\": \"\"\n      }\n    },\n    {\n      \"column\": \"Year\",\n      \"properties\": {\n        \"dtype\": \"number\",\n        \"std\": 3,\n        \"min\": 1998,\n        \"max\": 2018,\n        \"num_unique_values\": 20,\n        \"samples\": [\n          2014,\n          2018,\n          2002\n        ],\n        \"semantic_type\": \"\",\n        \"description\": \"\"\n      }\n    },\n    {\n      \"column\": \"Mileage\",\n      \"properties\": {\n        \"dtype\": \"number\",\n        \"std\": 36791,\n        \"min\": 5,\n        \"max\": 232658,\n        \"num_unique_values\": 9913,\n        \"samples\": [\n          91918,\n          24261,\n          100093\n        ],\n        \"semantic_type\": \"\",\n        \"description\": \"\"\n      }\n    },\n    {\n      \"column\": \"M_Camry\",\n      \"properties\": {\n        \"dtype\": \"boolean\",\n        \"num_unique_values\": 2,\n        \"samples\": [\n          true,\n          false\n        ],\n        \"semantic_type\": \"\",\n        \"description\": \"\"\n      }\n    },\n    {\n      \"column\": \"M_Camry4dr\",\n      \"properties\": {\n        \"dtype\": \"boolean\",\n        \"num_unique_values\": 2,\n        \"samples\": [\n          true,\n          false\n        ],\n        \"semantic_type\": \"\",\n        \"description\": \"\"\n      }\n    },\n    {\n      \"column\": \"M_CamryBase\",\n      \"properties\": {\n        \"dtype\": \"boolean\",\n        \"num_unique_values\": 2,\n        \"samples\": [\n          true,\n          false\n        ],\n        \"semantic_type\": \"\",\n        \"description\": \"\"\n      }\n    },\n    {\n      \"column\": \"M_CamryL\",\n      \"properties\": {\n        \"dtype\": \"boolean\",\n        \"num_unique_values\": 2,\n        \"samples\": [\n          false,\n          true\n        ],\n        \"semantic_type\": \"\",\n        \"description\": \"\"\n      }\n    },\n    {\n      \"column\": \"M_CamryLE\",\n      \"properties\": {\n        \"dtype\": \"boolean\",\n        \"num_unique_values\": 2,\n        \"samples\": [\n          true,\n          false\n        ],\n        \"semantic_type\": \"\",\n        \"description\": \"\"\n      }\n    },\n    {\n      \"column\": \"M_CamrySE\",\n      \"properties\": {\n        \"dtype\": \"boolean\",\n        \"num_unique_values\": 2,\n        \"samples\": [\n          true,\n          false\n        ],\n        \"semantic_type\": \"\",\n        \"description\": \"\"\n      }\n    },\n    {\n      \"column\": \"M_CamryXLE\",\n      \"properties\": {\n        \"dtype\": \"boolean\",\n        \"num_unique_values\": 2,\n        \"samples\": [\n          true,\n          false\n        ],\n        \"semantic_type\": \"\",\n        \"description\": \"\"\n      }\n    }\n  ]\n}",
       "type": "dataframe",
       "variable_name": "data"
      },
      "text/html": [
       "\n",
       "  <div id=\"df-2db53004-f1fc-46e0-abaf-5c365ba279fc\" class=\"colab-df-container\">\n",
       "    <div>\n",
       "<style scoped>\n",
       "    .dataframe tbody tr th:only-of-type {\n",
       "        vertical-align: middle;\n",
       "    }\n",
       "\n",
       "    .dataframe tbody tr th {\n",
       "        vertical-align: top;\n",
       "    }\n",
       "\n",
       "    .dataframe thead th {\n",
       "        text-align: right;\n",
       "    }\n",
       "</style>\n",
       "<table border=\"1\" class=\"dataframe\">\n",
       "  <thead>\n",
       "    <tr style=\"text-align: right;\">\n",
       "      <th></th>\n",
       "      <th>Price</th>\n",
       "      <th>Year</th>\n",
       "      <th>Mileage</th>\n",
       "      <th>M_Camry</th>\n",
       "      <th>M_Camry4dr</th>\n",
       "      <th>M_CamryBase</th>\n",
       "      <th>M_CamryL</th>\n",
       "      <th>M_CamryLE</th>\n",
       "      <th>M_CamrySE</th>\n",
       "      <th>M_CamryXLE</th>\n",
       "    </tr>\n",
       "  </thead>\n",
       "  <tbody>\n",
       "    <tr>\n",
       "      <th>7</th>\n",
       "      <td>21995</td>\n",
       "      <td>2014</td>\n",
       "      <td>6480</td>\n",
       "      <td>False</td>\n",
       "      <td>False</td>\n",
       "      <td>False</td>\n",
       "      <td>True</td>\n",
       "      <td>False</td>\n",
       "      <td>False</td>\n",
       "      <td>False</td>\n",
       "    </tr>\n",
       "    <tr>\n",
       "      <th>11</th>\n",
       "      <td>13995</td>\n",
       "      <td>2014</td>\n",
       "      <td>39972</td>\n",
       "      <td>False</td>\n",
       "      <td>False</td>\n",
       "      <td>False</td>\n",
       "      <td>False</td>\n",
       "      <td>True</td>\n",
       "      <td>False</td>\n",
       "      <td>False</td>\n",
       "    </tr>\n",
       "    <tr>\n",
       "      <th>167</th>\n",
       "      <td>17941</td>\n",
       "      <td>2016</td>\n",
       "      <td>18989</td>\n",
       "      <td>False</td>\n",
       "      <td>False</td>\n",
       "      <td>False</td>\n",
       "      <td>False</td>\n",
       "      <td>False</td>\n",
       "      <td>True</td>\n",
       "      <td>False</td>\n",
       "    </tr>\n",
       "    <tr>\n",
       "      <th>225</th>\n",
       "      <td>12493</td>\n",
       "      <td>2014</td>\n",
       "      <td>51330</td>\n",
       "      <td>False</td>\n",
       "      <td>False</td>\n",
       "      <td>False</td>\n",
       "      <td>True</td>\n",
       "      <td>False</td>\n",
       "      <td>False</td>\n",
       "      <td>False</td>\n",
       "    </tr>\n",
       "    <tr>\n",
       "      <th>270</th>\n",
       "      <td>7994</td>\n",
       "      <td>2007</td>\n",
       "      <td>116065</td>\n",
       "      <td>False</td>\n",
       "      <td>True</td>\n",
       "      <td>False</td>\n",
       "      <td>False</td>\n",
       "      <td>False</td>\n",
       "      <td>False</td>\n",
       "      <td>False</td>\n",
       "    </tr>\n",
       "  </tbody>\n",
       "</table>\n",
       "</div>\n",
       "    <div class=\"colab-df-buttons\">\n",
       "\n",
       "  <div class=\"colab-df-container\">\n",
       "    <button class=\"colab-df-convert\" onclick=\"convertToInteractive('df-2db53004-f1fc-46e0-abaf-5c365ba279fc')\"\n",
       "            title=\"Convert this dataframe to an interactive table.\"\n",
       "            style=\"display:none;\">\n",
       "\n",
       "  <svg xmlns=\"http://www.w3.org/2000/svg\" height=\"24px\" viewBox=\"0 -960 960 960\">\n",
       "    <path d=\"M120-120v-720h720v720H120Zm60-500h600v-160H180v160Zm220 220h160v-160H400v160Zm0 220h160v-160H400v160ZM180-400h160v-160H180v160Zm440 0h160v-160H620v160ZM180-180h160v-160H180v160Zm440 0h160v-160H620v160Z\"/>\n",
       "  </svg>\n",
       "    </button>\n",
       "\n",
       "  <style>\n",
       "    .colab-df-container {\n",
       "      display:flex;\n",
       "      gap: 12px;\n",
       "    }\n",
       "\n",
       "    .colab-df-convert {\n",
       "      background-color: #E8F0FE;\n",
       "      border: none;\n",
       "      border-radius: 50%;\n",
       "      cursor: pointer;\n",
       "      display: none;\n",
       "      fill: #1967D2;\n",
       "      height: 32px;\n",
       "      padding: 0 0 0 0;\n",
       "      width: 32px;\n",
       "    }\n",
       "\n",
       "    .colab-df-convert:hover {\n",
       "      background-color: #E2EBFA;\n",
       "      box-shadow: 0px 1px 2px rgba(60, 64, 67, 0.3), 0px 1px 3px 1px rgba(60, 64, 67, 0.15);\n",
       "      fill: #174EA6;\n",
       "    }\n",
       "\n",
       "    .colab-df-buttons div {\n",
       "      margin-bottom: 4px;\n",
       "    }\n",
       "\n",
       "    [theme=dark] .colab-df-convert {\n",
       "      background-color: #3B4455;\n",
       "      fill: #D2E3FC;\n",
       "    }\n",
       "\n",
       "    [theme=dark] .colab-df-convert:hover {\n",
       "      background-color: #434B5C;\n",
       "      box-shadow: 0px 1px 3px 1px rgba(0, 0, 0, 0.15);\n",
       "      filter: drop-shadow(0px 1px 2px rgba(0, 0, 0, 0.3));\n",
       "      fill: #FFFFFF;\n",
       "    }\n",
       "  </style>\n",
       "\n",
       "    <script>\n",
       "      const buttonEl =\n",
       "        document.querySelector('#df-2db53004-f1fc-46e0-abaf-5c365ba279fc button.colab-df-convert');\n",
       "      buttonEl.style.display =\n",
       "        google.colab.kernel.accessAllowed ? 'block' : 'none';\n",
       "\n",
       "      async function convertToInteractive(key) {\n",
       "        const element = document.querySelector('#df-2db53004-f1fc-46e0-abaf-5c365ba279fc');\n",
       "        const dataTable =\n",
       "          await google.colab.kernel.invokeFunction('convertToInteractive',\n",
       "                                                    [key], {});\n",
       "        if (!dataTable) return;\n",
       "\n",
       "        const docLinkHtml = 'Like what you see? Visit the ' +\n",
       "          '<a target=\"_blank\" href=https://colab.research.google.com/notebooks/data_table.ipynb>data table notebook</a>'\n",
       "          + ' to learn more about interactive tables.';\n",
       "        element.innerHTML = '';\n",
       "        dataTable['output_type'] = 'display_data';\n",
       "        await google.colab.output.renderOutput(dataTable, element);\n",
       "        const docLink = document.createElement('div');\n",
       "        docLink.innerHTML = docLinkHtml;\n",
       "        element.appendChild(docLink);\n",
       "      }\n",
       "    </script>\n",
       "  </div>\n",
       "\n",
       "\n",
       "<div id=\"df-ca3fe6bf-2d1b-4211-a9fb-bb5307362e87\">\n",
       "  <button class=\"colab-df-quickchart\" onclick=\"quickchart('df-ca3fe6bf-2d1b-4211-a9fb-bb5307362e87')\"\n",
       "            title=\"Suggest charts\"\n",
       "            style=\"display:none;\">\n",
       "\n",
       "<svg xmlns=\"http://www.w3.org/2000/svg\" height=\"24px\"viewBox=\"0 0 24 24\"\n",
       "     width=\"24px\">\n",
       "    <g>\n",
       "        <path d=\"M19 3H5c-1.1 0-2 .9-2 2v14c0 1.1.9 2 2 2h14c1.1 0 2-.9 2-2V5c0-1.1-.9-2-2-2zM9 17H7v-7h2v7zm4 0h-2V7h2v10zm4 0h-2v-4h2v4z\"/>\n",
       "    </g>\n",
       "</svg>\n",
       "  </button>\n",
       "\n",
       "<style>\n",
       "  .colab-df-quickchart {\n",
       "      --bg-color: #E8F0FE;\n",
       "      --fill-color: #1967D2;\n",
       "      --hover-bg-color: #E2EBFA;\n",
       "      --hover-fill-color: #174EA6;\n",
       "      --disabled-fill-color: #AAA;\n",
       "      --disabled-bg-color: #DDD;\n",
       "  }\n",
       "\n",
       "  [theme=dark] .colab-df-quickchart {\n",
       "      --bg-color: #3B4455;\n",
       "      --fill-color: #D2E3FC;\n",
       "      --hover-bg-color: #434B5C;\n",
       "      --hover-fill-color: #FFFFFF;\n",
       "      --disabled-bg-color: #3B4455;\n",
       "      --disabled-fill-color: #666;\n",
       "  }\n",
       "\n",
       "  .colab-df-quickchart {\n",
       "    background-color: var(--bg-color);\n",
       "    border: none;\n",
       "    border-radius: 50%;\n",
       "    cursor: pointer;\n",
       "    display: none;\n",
       "    fill: var(--fill-color);\n",
       "    height: 32px;\n",
       "    padding: 0;\n",
       "    width: 32px;\n",
       "  }\n",
       "\n",
       "  .colab-df-quickchart:hover {\n",
       "    background-color: var(--hover-bg-color);\n",
       "    box-shadow: 0 1px 2px rgba(60, 64, 67, 0.3), 0 1px 3px 1px rgba(60, 64, 67, 0.15);\n",
       "    fill: var(--button-hover-fill-color);\n",
       "  }\n",
       "\n",
       "  .colab-df-quickchart-complete:disabled,\n",
       "  .colab-df-quickchart-complete:disabled:hover {\n",
       "    background-color: var(--disabled-bg-color);\n",
       "    fill: var(--disabled-fill-color);\n",
       "    box-shadow: none;\n",
       "  }\n",
       "\n",
       "  .colab-df-spinner {\n",
       "    border: 2px solid var(--fill-color);\n",
       "    border-color: transparent;\n",
       "    border-bottom-color: var(--fill-color);\n",
       "    animation:\n",
       "      spin 1s steps(1) infinite;\n",
       "  }\n",
       "\n",
       "  @keyframes spin {\n",
       "    0% {\n",
       "      border-color: transparent;\n",
       "      border-bottom-color: var(--fill-color);\n",
       "      border-left-color: var(--fill-color);\n",
       "    }\n",
       "    20% {\n",
       "      border-color: transparent;\n",
       "      border-left-color: var(--fill-color);\n",
       "      border-top-color: var(--fill-color);\n",
       "    }\n",
       "    30% {\n",
       "      border-color: transparent;\n",
       "      border-left-color: var(--fill-color);\n",
       "      border-top-color: var(--fill-color);\n",
       "      border-right-color: var(--fill-color);\n",
       "    }\n",
       "    40% {\n",
       "      border-color: transparent;\n",
       "      border-right-color: var(--fill-color);\n",
       "      border-top-color: var(--fill-color);\n",
       "    }\n",
       "    60% {\n",
       "      border-color: transparent;\n",
       "      border-right-color: var(--fill-color);\n",
       "    }\n",
       "    80% {\n",
       "      border-color: transparent;\n",
       "      border-right-color: var(--fill-color);\n",
       "      border-bottom-color: var(--fill-color);\n",
       "    }\n",
       "    90% {\n",
       "      border-color: transparent;\n",
       "      border-bottom-color: var(--fill-color);\n",
       "    }\n",
       "  }\n",
       "</style>\n",
       "\n",
       "  <script>\n",
       "    async function quickchart(key) {\n",
       "      const quickchartButtonEl =\n",
       "        document.querySelector('#' + key + ' button');\n",
       "      quickchartButtonEl.disabled = true;  // To prevent multiple clicks.\n",
       "      quickchartButtonEl.classList.add('colab-df-spinner');\n",
       "      try {\n",
       "        const charts = await google.colab.kernel.invokeFunction(\n",
       "            'suggestCharts', [key], {});\n",
       "      } catch (error) {\n",
       "        console.error('Error during call to suggestCharts:', error);\n",
       "      }\n",
       "      quickchartButtonEl.classList.remove('colab-df-spinner');\n",
       "      quickchartButtonEl.classList.add('colab-df-quickchart-complete');\n",
       "    }\n",
       "    (() => {\n",
       "      let quickchartButtonEl =\n",
       "        document.querySelector('#df-ca3fe6bf-2d1b-4211-a9fb-bb5307362e87 button');\n",
       "      quickchartButtonEl.style.display =\n",
       "        google.colab.kernel.accessAllowed ? 'block' : 'none';\n",
       "    })();\n",
       "  </script>\n",
       "</div>\n",
       "\n",
       "    </div>\n",
       "  </div>\n"
      ],
      "text/plain": [
       "     Price  Year  Mileage  M_Camry  M_Camry4dr  M_CamryBase  M_CamryL  \\\n",
       "7    21995  2014     6480    False       False        False      True   \n",
       "11   13995  2014    39972    False       False        False     False   \n",
       "167  17941  2016    18989    False       False        False     False   \n",
       "225  12493  2014    51330    False       False        False      True   \n",
       "270   7994  2007   116065    False        True        False     False   \n",
       "\n",
       "     M_CamryLE  M_CamrySE  M_CamryXLE  \n",
       "7        False      False       False  \n",
       "11        True      False       False  \n",
       "167      False       True       False  \n",
       "225      False      False       False  \n",
       "270      False      False       False  "
      ]
     },
     "execution_count": 3,
     "metadata": {},
     "output_type": "execute_result"
    }
   ],
   "source": [
    "# Eliminación filas con observaciones nulas\n",
    "data.dropna(inplace=True)\n",
    "data.head()"
   ]
  },
  {
   "cell_type": "code",
   "execution_count": 4,
   "metadata": {
    "id": "sd69pnUO0UzU"
   },
   "outputs": [],
   "source": [
    "data['M_Camry'] = pd.factorize(data.M_Camry)[0]\n",
    "data['M_Camry4dr'] = pd.factorize(data.M_Camry4dr)[0]\n",
    "data['M_CamryBase'] = pd.factorize(data.M_CamryBase)[0]\n",
    "data['M_CamryL'] = pd.factorize(data.M_CamryL)[0]\n",
    "data['M_CamryLE'] = pd.factorize(data.M_CamryLE)[0]\n",
    "data['M_CamrySE'] = pd.factorize(data.M_CamrySE)[0]\n",
    "data['M_CamryXLE'] = pd.factorize(data.M_CamryXLE)[0]"
   ]
  },
  {
   "cell_type": "code",
   "execution_count": 8,
   "metadata": {
    "colab": {
     "base_uri": "https://localhost:8080/",
     "height": 458
    },
    "id": "eeF4ntbk0UzV",
    "outputId": "8f608b7c-1e69-49fa-e7ad-7b1c286a16bf"
   },
   "outputs": [],
   "source": [
    "# Separación de variables predictoras (X) y variable de interés (y)\n",
    "y = data['Price']\n",
    "X = data.drop(['Price'], axis=1)\n",
    "feature_cols = X.columns"
   ]
  },
  {
   "cell_type": "code",
   "execution_count": 6,
   "metadata": {
    "id": "9P03PZuH0UzW"
   },
   "outputs": [],
   "source": [
    "# Separación de datos en set de entrenamiento y test\n",
    "from sklearn.model_selection import train_test_split\n",
    "X_train, X_test, y_train, y_test = train_test_split(X, y, test_size=0.33, random_state=42)"
   ]
  },
  {
   "cell_type": "markdown",
   "metadata": {
    "id": "BXuhm4Xr0UzX"
   },
   "source": [
    "### Punto 1 - Árbol de decisión manual\n",
    "\n",
    "En la celda 1 creen un árbol de decisión **manualmente**  que considere los set de entrenamiento y test definidos anteriormente y presenten el RMSE y MAE del modelo en el set de test."
   ]
  },
  {
   "cell_type": "code",
   "execution_count": 7,
   "metadata": {
    "id": "DhJgOQez0UzX"
   },
   "outputs": [],
   "source": [
    "from sklearn.linear_model import LinearRegression\n",
    "from sklearn.tree import DecisionTreeRegressor\n",
    "from sklearn.naive_bayes import GaussianNB\n",
    "from sklearn.neighbors import KNeighborsRegressor\n",
    "import numpy as np\n",
    "from sklearn.metrics import mean_squared_error"
   ]
  },
  {
   "cell_type": "code",
   "execution_count": 8,
   "metadata": {
    "id": "qNf8n3z_0UzY"
   },
   "outputs": [],
   "source": [
    "# Definición de parámetros y criterios de parada\n",
    "max_depth = None\n",
    "num_pct = 20\n",
    "max_features = None\n",
    "min_gain=0.001"
   ]
  },
  {
   "cell_type": "code",
   "execution_count": 9,
   "metadata": {
    "colab": {
     "base_uri": "https://localhost:8080/"
    },
    "id": "A_hdv5ZI0UzY",
    "outputId": "161106e3-9f19-4f5d-c64b-eaa6697f5d9b"
   },
   "outputs": [
    {
     "name": "stdout",
     "output_type": "stream",
     "text": [
      "Mileage\n"
     ]
    }
   ],
   "source": [
    "# Impresión variable a usar (Mileage)\n",
    "j = 1\n",
    "print(X.columns[j])"
   ]
  },
  {
   "cell_type": "code",
   "execution_count": 10,
   "metadata": {
    "colab": {
     "base_uri": "https://localhost:8080/"
    },
    "id": "oQb7Kzk10UzZ",
    "outputId": "477ba48f-c5a3-4e9b-e1c8-00ffdc95e6aa"
   },
   "outputs": [
    {
     "data": {
      "text/plain": [
       "array([5.000000e+00, 1.047000e+04, 1.576440e+04, 2.000030e+04,\n",
       "       2.345860e+04, 2.646100e+04, 2.993760e+04, 3.292670e+04,\n",
       "       3.570080e+04, 3.872080e+04, 4.168000e+04, 4.479340e+04,\n",
       "       4.824700e+04, 5.352710e+04, 6.171600e+04, 7.135550e+04,\n",
       "       8.153420e+04, 9.286500e+04, 1.067578e+05, 1.276100e+05])"
      ]
     },
     "execution_count": 10,
     "metadata": {},
     "output_type": "execute_result"
    }
   ],
   "source": [
    "# División de la variable Mileage en num_ctp puntos (parámetro definido anteriormente) para obtener posibles puntos de corte\n",
    "splits = np.percentile(X.iloc[:, j], np.arange(0, 100, 100.0 / num_pct).tolist())\n",
    "splits = np.unique(splits)\n",
    "splits"
   ]
  },
  {
   "cell_type": "code",
   "execution_count": 11,
   "metadata": {
    "id": "lN8_o-4d0UzZ"
   },
   "outputs": [],
   "source": [
    "# División de las observaciones usando el punto de corte en la posición 5 de la lista de splits\n",
    "k=5\n",
    "filter_l = X.iloc[:, j] < splits[k]\n",
    "\n",
    "# División de la variable de respuesta de acuerdo a si la observación cumple o no con la regla binaria\n",
    "# y_l: la observación tiene un valor menor al punto de corte seleccionado\n",
    "# y_r: la observación tiene un valor mayor o igual al punto de corte seleccionado\n",
    "y_l = y.loc[filter_l]\n",
    "y_r = y.loc[~filter_l]"
   ]
  },
  {
   "cell_type": "code",
   "execution_count": 12,
   "metadata": {
    "id": "XDSXkr4w0Uza"
   },
   "outputs": [],
   "source": [
    "# Definición de la función que calcula el gini index\n",
    "def gini(y):\n",
    "    if y.shape[0] == 0:\n",
    "        return 0\n",
    "    else:\n",
    "        return 1 - (y.mean()**2 + (1 - y.mean())**2)"
   ]
  },
  {
   "cell_type": "code",
   "execution_count": 13,
   "metadata": {
    "colab": {
     "base_uri": "https://localhost:8080/"
    },
    "id": "r1jUlfbD0Uza",
    "outputId": "ccdf3d1d-839d-444b-d1d9-ed927ff518bf"
   },
   "outputs": [
    {
     "data": {
      "text/plain": [
       "np.float64(-653088556.9195423)"
      ]
     },
     "execution_count": 13,
     "metadata": {},
     "output_type": "execute_result"
    }
   ],
   "source": [
    "# Gini index de las observaciones que tienen un valor menor al punto de corte seleccionado\n",
    "gini_l = gini(y_l)\n",
    "gini_l"
   ]
  },
  {
   "cell_type": "code",
   "execution_count": 14,
   "metadata": {
    "colab": {
     "base_uri": "https://localhost:8080/"
    },
    "id": "QtqysTNq0Uzb",
    "outputId": "5ab2cf0b-d960-469f-b8b7-9d67934bf185"
   },
   "outputs": [
    {
     "data": {
      "text/plain": [
       "np.float64(-356990419.20446926)"
      ]
     },
     "execution_count": 14,
     "metadata": {},
     "output_type": "execute_result"
    }
   ],
   "source": [
    "# Gini index de las observaciones que tienen un valor mayor o igual al punto de corte seleccionado\n",
    "gini_r = gini(y_r)\n",
    "gini_r"
   ]
  },
  {
   "cell_type": "code",
   "execution_count": 15,
   "metadata": {
    "id": "dtSJBumC0Uzb"
   },
   "outputs": [],
   "source": [
    "# Definición de la función gini_imputiry para calular la ganancia de una variable predictora j dado el punto de corte k\n",
    "def gini_impurity(X_col, y, split):\n",
    "\n",
    "    filter_l = X_col < split\n",
    "    y_l = y.loc[filter_l]\n",
    "    y_r = y.loc[~filter_l]\n",
    "\n",
    "    n_l = y_l.shape[0]\n",
    "    n_r = y_r.shape[0]\n",
    "\n",
    "    gini_y = gini(y)\n",
    "    gini_l = gini(y_l)\n",
    "    gini_r = gini(y_r)\n",
    "\n",
    "    gini_impurity_ = gini_y - (n_l / (n_l + n_r) * gini_l + n_r / (n_l + n_r) * gini_r)\n",
    "\n",
    "    return gini_impurity_"
   ]
  },
  {
   "cell_type": "code",
   "execution_count": 16,
   "metadata": {
    "colab": {
     "base_uri": "https://localhost:8080/"
    },
    "id": "yze52-6d0Uzc",
    "outputId": "cb9c52e7-0bb7-4943-95b2-060797b0c504"
   },
   "outputs": [
    {
     "data": {
      "text/plain": [
       "np.float64(8320718.533031642)"
      ]
     },
     "execution_count": 16,
     "metadata": {},
     "output_type": "execute_result"
    }
   ],
   "source": [
    "# Ganancia de la variable 'Mileage' en el punto de corte selecionado\n",
    "gini_impurity(X.iloc[:, j], y, splits[k])"
   ]
  },
  {
   "cell_type": "code",
   "execution_count": 17,
   "metadata": {
    "id": "atRImiDt0Uzc"
   },
   "outputs": [],
   "source": [
    "# Definición de la función best_split para calcular cuál es la mejor variable y punto de cortepara hacer la bifurcación del árbol\n",
    "def best_split(X, y, num_pct=20):\n",
    "\n",
    "    features = range(X.shape[1])\n",
    "\n",
    "    best_split = [0, 0, 0]  # j, split, gain\n",
    "\n",
    "    # Para todas las varibles\n",
    "    for j in features:\n",
    "\n",
    "        splits = np.percentile(X.iloc[:, j], np.arange(0, 100, 100.0 / (num_pct+1)).tolist())\n",
    "        splits = np.unique(splits)[1:]\n",
    "\n",
    "        # Para cada partición\n",
    "        for split in splits:\n",
    "            gain = gini_impurity(X.iloc[:, j], y, split)\n",
    "\n",
    "            if gain > best_split[2]:\n",
    "                best_split = [j, split, gain]\n",
    "\n",
    "    return best_split"
   ]
  },
  {
   "cell_type": "code",
   "execution_count": 18,
   "metadata": {
    "colab": {
     "base_uri": "https://localhost:8080/"
    },
    "id": "4e7UE-270Uzd",
    "outputId": "f7ddf3f2-47ca-4cbb-d1e9-17efedd8497c"
   },
   "outputs": [
    {
     "data": {
      "text/plain": [
       "(0, np.float64(2014.0), np.float64(17349239.621991813))"
      ]
     },
     "execution_count": 18,
     "metadata": {},
     "output_type": "execute_result"
    }
   ],
   "source": [
    "# Obtención de la variable 'j', su punto de corte 'split' y su ganancia 'gain'\n",
    "j, split, gain = best_split(X, y, 5)\n",
    "j, split, gain"
   ]
  },
  {
   "cell_type": "code",
   "execution_count": 19,
   "metadata": {
    "id": "gKfh1t5t0Uzd"
   },
   "outputs": [],
   "source": [
    "# División de las observaciones usando la mejor variable 'j' y su punto de corte 'split'\n",
    "filter_l = X.iloc[:, j] < split\n",
    "\n",
    "y_l = y.loc[filter_l]\n",
    "y_r = y.loc[~filter_l]"
   ]
  },
  {
   "cell_type": "code",
   "execution_count": 20,
   "metadata": {
    "colab": {
     "base_uri": "https://localhost:8080/"
    },
    "id": "TYnVWp6I0Uze",
    "outputId": "2b500a7e-c2d3-41fa-ec42-dbe7f402aabe"
   },
   "outputs": [
    {
     "data": {
      "text/plain": [
       "(10495, 3356, 7139)"
      ]
     },
     "execution_count": 20,
     "metadata": {},
     "output_type": "execute_result"
    }
   ],
   "source": [
    "y.shape[0], y_l.shape[0], y_r.shape[0]"
   ]
  },
  {
   "cell_type": "code",
   "execution_count": 21,
   "metadata": {
    "colab": {
     "base_uri": "https://localhost:8080/"
    },
    "id": "4td3S0BS0Uze",
    "outputId": "37ad666a-2c04-433f-9ae3-107a8dcc4120"
   },
   "outputs": [
    {
     "data": {
      "text/plain": [
       "(np.float64(14538.403716055265),\n",
       " np.float64(10242.713647199047),\n",
       " np.float64(16557.781201848997))"
      ]
     },
     "execution_count": 21,
     "metadata": {},
     "output_type": "execute_result"
    }
   ],
   "source": [
    "y.mean(), y_l.mean(), y_r.mean()"
   ]
  },
  {
   "cell_type": "code",
   "execution_count": 22,
   "metadata": {
    "id": "_ZEp5vOt0Uzf"
   },
   "outputs": [],
   "source": [
    "# Definición de la función tree_grow para hacer un crecimiento recursivo del árbol\n",
    "def tree_grow(X, y, level=0, min_gain=0.001, max_depth=None, num_pct=10):\n",
    "\n",
    "    # Si solo es una observación\n",
    "    if X.shape[0] == 1:\n",
    "        tree = dict(y_pred=y.iloc[:1].values[0], y_prob=0.5, level=level, split=-1, n_samples=1, gain=0)\n",
    "        return tree\n",
    "\n",
    "    # Calcular la mejor división\n",
    "    j, split, gain = best_split(X, y, num_pct)\n",
    "\n",
    "    # Guardar el árbol y estimar la predicción\n",
    "    y_pred = int(y.mean() >= 0.5)\n",
    "    y_prob = (y.sum() + 1.0) / (y.shape[0] + 2.0)  # Corrección Laplace\n",
    "\n",
    "    tree = dict(y_pred=y_pred, y_prob=y_prob, level=level, split=-1, n_samples=X.shape[0], gain=gain)\n",
    "    # Revisar el criterio de parada\n",
    "    if gain < min_gain:\n",
    "        return tree\n",
    "    if max_depth is not None:\n",
    "        if level >= max_depth:\n",
    "            return tree\n",
    "\n",
    "    # Continuar creando la partición\n",
    "    filter_l = X.iloc[:, j] < split\n",
    "    X_l, y_l = X.loc[filter_l], y.loc[filter_l]\n",
    "    X_r, y_r = X.loc[~filter_l], y.loc[~filter_l]\n",
    "    tree['split'] = [j, split]\n",
    "\n",
    "    # Siguiente iteración para cada partición\n",
    "\n",
    "    tree['sl'] = tree_grow(X_l, y_l, level + 1, min_gain=min_gain, max_depth=max_depth, num_pct=num_pct)\n",
    "    tree['sr'] = tree_grow(X_r, y_r, level + 1, min_gain=min_gain, max_depth=max_depth, num_pct=num_pct)\n",
    "\n",
    "    return tree"
   ]
  },
  {
   "cell_type": "code",
   "execution_count": 23,
   "metadata": {
    "colab": {
     "base_uri": "https://localhost:8080/"
    },
    "id": "QztdNMWm0Uzf",
    "outputId": "9488eb27-690d-4802-d711-1d0401504ff1"
   },
   "outputs": [
    {
     "data": {
      "text/plain": [
       "{'y_pred': 1,\n",
       " 'y_prob': np.float64(14535.633800133372),\n",
       " 'level': 0,\n",
       " 'split': [0, np.float64(2014.0)],\n",
       " 'n_samples': 10495,\n",
       " 'gain': np.float64(17349239.621991813),\n",
       " 'sl': {'y_pred': 1,\n",
       "  'y_prob': np.float64(10236.613460393091),\n",
       "  'level': 1,\n",
       "  'split': -1,\n",
       "  'n_samples': 3356,\n",
       "  'gain': np.float64(7787930.328242004)},\n",
       " 'sr': {'y_pred': 1,\n",
       "  'y_prob': np.float64(16553.143957428932),\n",
       "  'level': 1,\n",
       "  'split': -1,\n",
       "  'n_samples': 7139,\n",
       "  'gain': np.float64(3024805.47488904)}}"
      ]
     },
     "execution_count": 23,
     "metadata": {},
     "output_type": "execute_result"
    }
   ],
   "source": [
    "# Aplicación de la función tree_grow\n",
    "tree_grow(X, y, level=0, min_gain=0.001, max_depth=1, num_pct=10)"
   ]
  },
  {
   "cell_type": "code",
   "execution_count": 24,
   "metadata": {
    "colab": {
     "base_uri": "https://localhost:8080/"
    },
    "id": "6Cskb6YX0Uzf",
    "outputId": "01c3ab53-5254-42ca-d1f5-ea62ef57c970"
   },
   "outputs": [
    {
     "data": {
      "text/plain": [
       "{'y_pred': 1,\n",
       " 'y_prob': np.float64(14535.633800133372),\n",
       " 'level': 0,\n",
       " 'split': [0, np.float64(2014.0)],\n",
       " 'n_samples': 10495,\n",
       " 'gain': np.float64(17349239.621991813),\n",
       " 'sl': {'y_pred': 1,\n",
       "  'y_prob': np.float64(10236.613460393091),\n",
       "  'level': 1,\n",
       "  'split': [0, np.float64(2012.0)],\n",
       "  'n_samples': 3356,\n",
       "  'gain': np.float64(7787930.328242004),\n",
       "  'sl': {'y_pred': 1,\n",
       "   'y_prob': np.float64(8765.27302174919),\n",
       "   'level': 2,\n",
       "   'split': [1, np.float64(97405.90909090909)],\n",
       "   'n_samples': 2159,\n",
       "   'gain': np.float64(2255536.2609175444),\n",
       "   'sl': {'y_pred': 1,\n",
       "    'y_prob': np.float64(9916.894201424211),\n",
       "    'level': 3,\n",
       "    'split': -1,\n",
       "    'n_samples': 981,\n",
       "    'gain': np.float64(1653234.7266777754)},\n",
       "   'sr': {'y_pred': 1,\n",
       "    'y_prob': np.float64(7791.058474576271),\n",
       "    'level': 3,\n",
       "    'split': -1,\n",
       "    'n_samples': 1178,\n",
       "    'gain': np.float64(1289639.2187613398)}},\n",
       "  'sr': {'y_pred': 1,\n",
       "   'y_prob': np.float64(12871.387823185989),\n",
       "   'level': 2,\n",
       "   'split': [1, np.float64(73275.72727272726)],\n",
       "   'n_samples': 1197,\n",
       "   'gain': np.float64(2580805.823651254),\n",
       "   'sl': {'y_pred': 1,\n",
       "    'y_prob': np.float64(13887.186259541984),\n",
       "    'level': 3,\n",
       "    'split': -1,\n",
       "    'n_samples': 653,\n",
       "    'gain': np.float64(919590.2107029557)},\n",
       "   'sr': {'y_pred': 1,\n",
       "    'y_prob': np.float64(11605.655677655677),\n",
       "    'level': 3,\n",
       "    'split': -1,\n",
       "    'n_samples': 544,\n",
       "    'gain': np.float64(1044877.3030008078)}}},\n",
       " 'sr': {'y_pred': 1,\n",
       "  'y_prob': np.float64(16553.143957428932),\n",
       "  'level': 1,\n",
       "  'split': [0, np.float64(2017.0)],\n",
       "  'n_samples': 7139,\n",
       "  'gain': np.float64(3024805.47488904),\n",
       "  'sl': {'y_pred': 1,\n",
       "   'y_prob': np.float64(15982.734693877552),\n",
       "   'level': 2,\n",
       "   'split': [1, np.float64(45108.181818181816)],\n",
       "   'n_samples': 5878,\n",
       "   'gain': np.float64(1263583.1774819493),\n",
       "   'sl': {'y_pred': 1,\n",
       "    'y_prob': np.float64(16467.196165536592),\n",
       "    'level': 3,\n",
       "    'split': -1,\n",
       "    'n_samples': 4275,\n",
       "    'gain': np.float64(630701.3117169142)},\n",
       "   'sr': {'y_pred': 1,\n",
       "    'y_prob': np.float64(14671.827414330219),\n",
       "    'level': 3,\n",
       "    'split': -1,\n",
       "    'n_samples': 1603,\n",
       "    'gain': np.float64(1125533.8871956468)}},\n",
       "  'sr': {'y_pred': 1,\n",
       "   'y_prob': np.float64(19182.519398258115),\n",
       "   'level': 2,\n",
       "   'split': [8, np.float64(1.0)],\n",
       "   'n_samples': 1261,\n",
       "   'gain': np.float64(2154029.491327882),\n",
       "   'sl': {'y_pred': 1,\n",
       "    'y_prob': np.float64(18754.763619575253),\n",
       "    'level': 3,\n",
       "    'split': -1,\n",
       "    'n_samples': 1081,\n",
       "    'gain': np.float64(1256939.9779837132)},\n",
       "   'sr': {'y_pred': 1,\n",
       "    'y_prob': np.float64(21517.10989010989),\n",
       "    'level': 3,\n",
       "    'split': -1,\n",
       "    'n_samples': 180,\n",
       "    'gain': np.float64(1805742.8912305832)}}}}"
      ]
     },
     "execution_count": 24,
     "metadata": {},
     "output_type": "execute_result"
    }
   ],
   "source": [
    "tree = tree_grow(X, y, level=0, min_gain=0.001, max_depth=3, num_pct=10)\n",
    "tree"
   ]
  },
  {
   "cell_type": "code",
   "execution_count": 25,
   "metadata": {
    "id": "YD4485Kr0Uzg"
   },
   "outputs": [],
   "source": [
    "# Definición de la función tree_predict para hacer predicciones según las variables 'X' y el árbol 'tree'\n",
    "\n",
    "def tree_predict(X, tree, proba=False):\n",
    "\n",
    "    predicted = np.ones(X.shape[0])\n",
    "\n",
    "    # Revisar si es el nodo final\n",
    "    if tree['split'] == -1:\n",
    "        if not proba:\n",
    "            predicted = predicted * tree['y_pred']\n",
    "        else:\n",
    "            predicted = predicted * tree['y_prob']\n",
    "\n",
    "    else:\n",
    "\n",
    "        j, split = tree['split']\n",
    "        filter_l = (X.iloc[:, j] < split)\n",
    "        X_l = X.loc[filter_l]\n",
    "        X_r = X.loc[~filter_l]\n",
    "\n",
    "        if X_l.shape[0] == 0:  # Si el nodo izquierdo está vacio solo continua con el derecho\n",
    "            predicted[~filter_l] = tree_predict(X_r, tree['sr'], proba)\n",
    "        elif X_r.shape[0] == 0:  #  Si el nodo derecho está vacio solo continua con el izquierdo\n",
    "            predicted[filter_l] = tree_predict(X_l, tree['sl'], proba)\n",
    "        else:\n",
    "            predicted[filter_l] = tree_predict(X_l, tree['sl'], proba)\n",
    "            predicted[~filter_l] = tree_predict(X_r, tree['sr'], proba)\n",
    "\n",
    "    return predicted"
   ]
  },
  {
   "cell_type": "code",
   "execution_count": 26,
   "metadata": {
    "id": "2D1_9GS40Uzg"
   },
   "outputs": [],
   "source": [
    "# Ejecución de función tree_predict\n",
    "#tree_predict(X, tree)\n"
   ]
  },
  {
   "cell_type": "code",
   "execution_count": 27,
   "metadata": {
    "colab": {
     "base_uri": "https://localhost:8080/"
    },
    "id": "stc8_sta0Uzh",
    "outputId": "9aa5b1ed-9a5b-4226-a669-e3b4daeefe3d"
   },
   "outputs": [
    {
     "name": "stdout",
     "output_type": "stream",
     "text": [
      "Tamaño de predicciones: 3464\n",
      "Tamaño de y_test: 3464\n",
      "Root Mean Squared Error (RMSE): 15113.767253661932\n",
      "Mean Absolute Error (MAE): 14598.966224018475\n"
     ]
    }
   ],
   "source": [
    "# Obtención de las predicciones en el conjunto de test\n",
    "predictions = tree_predict(X_test, tree)\n",
    "\n",
    "# Verifica que las dimensiones de las predicciones y y_test coincidan\n",
    "print(f\"Tamaño de predicciones: {len(predictions)}\")\n",
    "print(f\"Tamaño de y_test: {len(y_test)}\")\n",
    "\n",
    "# Asegúrate de que las predicciones y los valores reales tengan la misma longitud\n",
    "if len(predictions) == len(y_test):\n",
    "    # Cálculo del RMSE y MAE\n",
    "    from sklearn.metrics import mean_squared_error, mean_absolute_error\n",
    "    import numpy as np\n",
    "\n",
    "    rmse = np.sqrt(mean_squared_error(y_test, predictions))\n",
    "    mae = mean_absolute_error(y_test, predictions)\n",
    "\n",
    "    print(f\"Root Mean Squared Error (RMSE): {rmse}\")\n",
    "    print(f\"Mean Absolute Error (MAE): {mae}\")\n",
    "else:\n",
    "    print(\"Error: Las dimensiones de las predicciones y y_test no coinciden. Revisa los datos.\")\n"
   ]
  },
  {
   "cell_type": "markdown",
   "metadata": {
    "id": "L5R0BaBp0Uzh"
   },
   "source": [
    "RMSE: El valor es 15113.77. En este caso, un RMSE alto sugiere que las predicciones presentan desviaciones significativas.\n",
    "MAE: en promedio, el modelo está cometiendo un error de 14,598.97 unidades en cada predicción."
   ]
  },
  {
   "cell_type": "markdown",
   "metadata": {
    "id": "e7m-Ou3V0Uzi"
   },
   "source": [
    "### Punto 2 - Bagging manual\n",
    "\n",
    "En la celda 2 creen un modelo bagging **manualmente** con 10 árboles de regresión y comenten sobre el desempeño del modelo."
   ]
  },
  {
   "cell_type": "code",
   "execution_count": 28,
   "metadata": {
    "colab": {
     "base_uri": "https://localhost:8080/"
    },
    "id": "qelK_4Rm0Uzi",
    "outputId": "fb6b5e03-70a7-4493-9eb8-b3621a681014"
   },
   "outputs": [
    {
     "name": "stdout",
     "output_type": "stream",
     "text": [
      "Arreglo: [ 1  2  3  4  5  6  7  8  9 10 11 12 13 14 15 16 17 18 19 20]\n",
      "Muestreo aleatorio:  [ 6 12 13  9 10 12  6 16  1 17  2 13  8 14  7 19  6 19 12 11]\n"
     ]
    }
   ],
   "source": [
    "# Se crea un arreglo de 1 a 20\n",
    "np.random.seed(1)\n",
    "\n",
    "# Impresión de arreglo y muestreo aleatorio\n",
    "nums = np.arange(1, 21)\n",
    "print('Arreglo:', nums)\n",
    "print('Muestreo aleatorio: ', np.random.choice(a=nums, size=20, replace=True))\n"
   ]
  },
  {
   "cell_type": "code",
   "execution_count": 29,
   "metadata": {
    "colab": {
     "base_uri": "https://localhost:8080/"
    },
    "id": "S0pzCMK20Uzi",
    "outputId": "0eaf1646-3715-4775-eb3f-edd91c7d87b9"
   },
   "outputs": [
    {
     "data": {
      "text/plain": [
       "[array([3582, 1346, 5218, ..., 3824, 2046, 2560]),\n",
       " array([1999, 4774,  173, ..., 5803,  742, 5039]),\n",
       " array([2114, 4003, 3565, ..., 2965,  679, 2539]),\n",
       " array([ 6265,  2062,  9901, ...,  8182,  8981, 10457]),\n",
       " array([ 1727,  9002, 10082, ...,  9627,  6818,  2533]),\n",
       " array([ 9342,  8135,  1731, ..., 10225,  1367,  9054]),\n",
       " array([10297,  4474,  4234, ..., 10043,  4228,  5067]),\n",
       " array([9836, 9902, 5024, ..., 1281, 3089, 3668]),\n",
       " array([ 4266,  6769, 10150, ...,  7107,  7829,  8145]),\n",
       " array([6838,   84, 6064, ..., 5539,  847, 9812])]"
      ]
     },
     "execution_count": 29,
     "metadata": {},
     "output_type": "execute_result"
    }
   ],
   "source": [
    "# Creación de 10 muestras de bootstrap\n",
    "np.random.seed(123)\n",
    "\n",
    "n_samples = data.shape[0]\n",
    "n_B = 10\n",
    "\n",
    "samples = [np.random.choice(a=n_samples, size=n_samples, replace=True) for _ in range(1, n_B +1 )]\n",
    "samples"
   ]
  },
  {
   "cell_type": "code",
   "execution_count": 30,
   "metadata": {
    "colab": {
     "base_uri": "https://localhost:8080/",
     "height": 424
    },
    "id": "Qq4Hnndl0Uzj",
    "outputId": "e746004a-fd04-4111-dced-0b968c21e6bb"
   },
   "outputs": [
    {
     "data": {
      "application/vnd.google.colaboratory.intrinsic+json": {
       "summary": "{\n  \"name\": \"data\",\n  \"rows\": 10495,\n  \"fields\": [\n    {\n      \"column\": \"Price\",\n      \"properties\": {\n        \"dtype\": \"number\",\n        \"std\": 3885,\n        \"min\": 5126,\n        \"max\": 32444,\n        \"num_unique_values\": 2734,\n        \"samples\": [\n          8516,\n          15484,\n          16560\n        ],\n        \"semantic_type\": \"\",\n        \"description\": \"\"\n      }\n    },\n    {\n      \"column\": \"Year\",\n      \"properties\": {\n        \"dtype\": \"number\",\n        \"std\": 3,\n        \"min\": 1998,\n        \"max\": 2018,\n        \"num_unique_values\": 20,\n        \"samples\": [\n          2010,\n          2000,\n          2002\n        ],\n        \"semantic_type\": \"\",\n        \"description\": \"\"\n      }\n    },\n    {\n      \"column\": \"Mileage\",\n      \"properties\": {\n        \"dtype\": \"number\",\n        \"std\": 36307,\n        \"min\": 5,\n        \"max\": 232658,\n        \"num_unique_values\": 6376,\n        \"samples\": [\n          77445,\n          13303,\n          22347\n        ],\n        \"semantic_type\": \"\",\n        \"description\": \"\"\n      }\n    },\n    {\n      \"column\": \"M_Camry\",\n      \"properties\": {\n        \"dtype\": \"number\",\n        \"std\": 0,\n        \"min\": 0,\n        \"max\": 1,\n        \"num_unique_values\": 2,\n        \"samples\": [\n          1,\n          0\n        ],\n        \"semantic_type\": \"\",\n        \"description\": \"\"\n      }\n    },\n    {\n      \"column\": \"M_Camry4dr\",\n      \"properties\": {\n        \"dtype\": \"number\",\n        \"std\": 0,\n        \"min\": 0,\n        \"max\": 1,\n        \"num_unique_values\": 2,\n        \"samples\": [\n          1,\n          0\n        ],\n        \"semantic_type\": \"\",\n        \"description\": \"\"\n      }\n    },\n    {\n      \"column\": \"M_CamryBase\",\n      \"properties\": {\n        \"dtype\": \"number\",\n        \"std\": 0,\n        \"min\": 0,\n        \"max\": 1,\n        \"num_unique_values\": 2,\n        \"samples\": [\n          1,\n          0\n        ],\n        \"semantic_type\": \"\",\n        \"description\": \"\"\n      }\n    },\n    {\n      \"column\": \"M_CamryL\",\n      \"properties\": {\n        \"dtype\": \"number\",\n        \"std\": 0,\n        \"min\": 0,\n        \"max\": 1,\n        \"num_unique_values\": 2,\n        \"samples\": [\n          0,\n          1\n        ],\n        \"semantic_type\": \"\",\n        \"description\": \"\"\n      }\n    },\n    {\n      \"column\": \"M_CamryLE\",\n      \"properties\": {\n        \"dtype\": \"number\",\n        \"std\": 0,\n        \"min\": 0,\n        \"max\": 1,\n        \"num_unique_values\": 2,\n        \"samples\": [\n          0,\n          1\n        ],\n        \"semantic_type\": \"\",\n        \"description\": \"\"\n      }\n    },\n    {\n      \"column\": \"M_CamrySE\",\n      \"properties\": {\n        \"dtype\": \"number\",\n        \"std\": 0,\n        \"min\": 0,\n        \"max\": 1,\n        \"num_unique_values\": 2,\n        \"samples\": [\n          1,\n          0\n        ],\n        \"semantic_type\": \"\",\n        \"description\": \"\"\n      }\n    },\n    {\n      \"column\": \"M_CamryXLE\",\n      \"properties\": {\n        \"dtype\": \"number\",\n        \"std\": 0,\n        \"min\": 0,\n        \"max\": 1,\n        \"num_unique_values\": 2,\n        \"samples\": [\n          1,\n          0\n        ],\n        \"semantic_type\": \"\",\n        \"description\": \"\"\n      }\n    }\n  ]\n}",
       "type": "dataframe"
      },
      "text/html": [
       "\n",
       "  <div id=\"df-2f13ea34-8536-4788-abb9-261dafc40ab4\" class=\"colab-df-container\">\n",
       "    <div>\n",
       "<style scoped>\n",
       "    .dataframe tbody tr th:only-of-type {\n",
       "        vertical-align: middle;\n",
       "    }\n",
       "\n",
       "    .dataframe tbody tr th {\n",
       "        vertical-align: top;\n",
       "    }\n",
       "\n",
       "    .dataframe thead th {\n",
       "        text-align: right;\n",
       "    }\n",
       "</style>\n",
       "<table border=\"1\" class=\"dataframe\">\n",
       "  <thead>\n",
       "    <tr style=\"text-align: right;\">\n",
       "      <th></th>\n",
       "      <th>Price</th>\n",
       "      <th>Year</th>\n",
       "      <th>Mileage</th>\n",
       "      <th>M_Camry</th>\n",
       "      <th>M_Camry4dr</th>\n",
       "      <th>M_CamryBase</th>\n",
       "      <th>M_CamryL</th>\n",
       "      <th>M_CamryLE</th>\n",
       "      <th>M_CamrySE</th>\n",
       "      <th>M_CamryXLE</th>\n",
       "    </tr>\n",
       "  </thead>\n",
       "  <tbody>\n",
       "    <tr>\n",
       "      <th>137130</th>\n",
       "      <td>8995</td>\n",
       "      <td>2010</td>\n",
       "      <td>88909</td>\n",
       "      <td>0</td>\n",
       "      <td>0</td>\n",
       "      <td>0</td>\n",
       "      <td>1</td>\n",
       "      <td>1</td>\n",
       "      <td>0</td>\n",
       "      <td>0</td>\n",
       "    </tr>\n",
       "    <tr>\n",
       "      <th>51669</th>\n",
       "      <td>16500</td>\n",
       "      <td>2015</td>\n",
       "      <td>27217</td>\n",
       "      <td>0</td>\n",
       "      <td>0</td>\n",
       "      <td>0</td>\n",
       "      <td>1</td>\n",
       "      <td>0</td>\n",
       "      <td>1</td>\n",
       "      <td>0</td>\n",
       "    </tr>\n",
       "    <tr>\n",
       "      <th>199443</th>\n",
       "      <td>13695</td>\n",
       "      <td>2012</td>\n",
       "      <td>77117</td>\n",
       "      <td>0</td>\n",
       "      <td>1</td>\n",
       "      <td>0</td>\n",
       "      <td>1</td>\n",
       "      <td>0</td>\n",
       "      <td>0</td>\n",
       "      <td>0</td>\n",
       "    </tr>\n",
       "    <tr>\n",
       "      <th>292826</th>\n",
       "      <td>19999</td>\n",
       "      <td>2016</td>\n",
       "      <td>35504</td>\n",
       "      <td>0</td>\n",
       "      <td>0</td>\n",
       "      <td>0</td>\n",
       "      <td>1</td>\n",
       "      <td>0</td>\n",
       "      <td>1</td>\n",
       "      <td>0</td>\n",
       "    </tr>\n",
       "    <tr>\n",
       "      <th>372365</th>\n",
       "      <td>17302</td>\n",
       "      <td>2017</td>\n",
       "      <td>14738</td>\n",
       "      <td>0</td>\n",
       "      <td>0</td>\n",
       "      <td>0</td>\n",
       "      <td>1</td>\n",
       "      <td>0</td>\n",
       "      <td>1</td>\n",
       "      <td>0</td>\n",
       "    </tr>\n",
       "    <tr>\n",
       "      <th>...</th>\n",
       "      <td>...</td>\n",
       "      <td>...</td>\n",
       "      <td>...</td>\n",
       "      <td>...</td>\n",
       "      <td>...</td>\n",
       "      <td>...</td>\n",
       "      <td>...</td>\n",
       "      <td>...</td>\n",
       "      <td>...</td>\n",
       "      <td>...</td>\n",
       "    </tr>\n",
       "    <tr>\n",
       "      <th>206104</th>\n",
       "      <td>15800</td>\n",
       "      <td>2015</td>\n",
       "      <td>33395</td>\n",
       "      <td>0</td>\n",
       "      <td>0</td>\n",
       "      <td>0</td>\n",
       "      <td>1</td>\n",
       "      <td>1</td>\n",
       "      <td>0</td>\n",
       "      <td>0</td>\n",
       "    </tr>\n",
       "    <tr>\n",
       "      <th>160997</th>\n",
       "      <td>17000</td>\n",
       "      <td>2014</td>\n",
       "      <td>28864</td>\n",
       "      <td>0</td>\n",
       "      <td>0</td>\n",
       "      <td>0</td>\n",
       "      <td>1</td>\n",
       "      <td>0</td>\n",
       "      <td>0</td>\n",
       "      <td>1</td>\n",
       "    </tr>\n",
       "    <tr>\n",
       "      <th>146432</th>\n",
       "      <td>17295</td>\n",
       "      <td>2016</td>\n",
       "      <td>30214</td>\n",
       "      <td>0</td>\n",
       "      <td>0</td>\n",
       "      <td>0</td>\n",
       "      <td>1</td>\n",
       "      <td>1</td>\n",
       "      <td>0</td>\n",
       "      <td>0</td>\n",
       "    </tr>\n",
       "    <tr>\n",
       "      <th>78810</th>\n",
       "      <td>14777</td>\n",
       "      <td>2014</td>\n",
       "      <td>54924</td>\n",
       "      <td>0</td>\n",
       "      <td>0</td>\n",
       "      <td>0</td>\n",
       "      <td>0</td>\n",
       "      <td>0</td>\n",
       "      <td>0</td>\n",
       "      <td>0</td>\n",
       "    </tr>\n",
       "    <tr>\n",
       "      <th>96601</th>\n",
       "      <td>15495</td>\n",
       "      <td>2016</td>\n",
       "      <td>46764</td>\n",
       "      <td>0</td>\n",
       "      <td>0</td>\n",
       "      <td>0</td>\n",
       "      <td>1</td>\n",
       "      <td>0</td>\n",
       "      <td>1</td>\n",
       "      <td>0</td>\n",
       "    </tr>\n",
       "  </tbody>\n",
       "</table>\n",
       "<p>10495 rows × 10 columns</p>\n",
       "</div>\n",
       "    <div class=\"colab-df-buttons\">\n",
       "\n",
       "  <div class=\"colab-df-container\">\n",
       "    <button class=\"colab-df-convert\" onclick=\"convertToInteractive('df-2f13ea34-8536-4788-abb9-261dafc40ab4')\"\n",
       "            title=\"Convert this dataframe to an interactive table.\"\n",
       "            style=\"display:none;\">\n",
       "\n",
       "  <svg xmlns=\"http://www.w3.org/2000/svg\" height=\"24px\" viewBox=\"0 -960 960 960\">\n",
       "    <path d=\"M120-120v-720h720v720H120Zm60-500h600v-160H180v160Zm220 220h160v-160H400v160Zm0 220h160v-160H400v160ZM180-400h160v-160H180v160Zm440 0h160v-160H620v160ZM180-180h160v-160H180v160Zm440 0h160v-160H620v160Z\"/>\n",
       "  </svg>\n",
       "    </button>\n",
       "\n",
       "  <style>\n",
       "    .colab-df-container {\n",
       "      display:flex;\n",
       "      gap: 12px;\n",
       "    }\n",
       "\n",
       "    .colab-df-convert {\n",
       "      background-color: #E8F0FE;\n",
       "      border: none;\n",
       "      border-radius: 50%;\n",
       "      cursor: pointer;\n",
       "      display: none;\n",
       "      fill: #1967D2;\n",
       "      height: 32px;\n",
       "      padding: 0 0 0 0;\n",
       "      width: 32px;\n",
       "    }\n",
       "\n",
       "    .colab-df-convert:hover {\n",
       "      background-color: #E2EBFA;\n",
       "      box-shadow: 0px 1px 2px rgba(60, 64, 67, 0.3), 0px 1px 3px 1px rgba(60, 64, 67, 0.15);\n",
       "      fill: #174EA6;\n",
       "    }\n",
       "\n",
       "    .colab-df-buttons div {\n",
       "      margin-bottom: 4px;\n",
       "    }\n",
       "\n",
       "    [theme=dark] .colab-df-convert {\n",
       "      background-color: #3B4455;\n",
       "      fill: #D2E3FC;\n",
       "    }\n",
       "\n",
       "    [theme=dark] .colab-df-convert:hover {\n",
       "      background-color: #434B5C;\n",
       "      box-shadow: 0px 1px 3px 1px rgba(0, 0, 0, 0.15);\n",
       "      filter: drop-shadow(0px 1px 2px rgba(0, 0, 0, 0.3));\n",
       "      fill: #FFFFFF;\n",
       "    }\n",
       "  </style>\n",
       "\n",
       "    <script>\n",
       "      const buttonEl =\n",
       "        document.querySelector('#df-2f13ea34-8536-4788-abb9-261dafc40ab4 button.colab-df-convert');\n",
       "      buttonEl.style.display =\n",
       "        google.colab.kernel.accessAllowed ? 'block' : 'none';\n",
       "\n",
       "      async function convertToInteractive(key) {\n",
       "        const element = document.querySelector('#df-2f13ea34-8536-4788-abb9-261dafc40ab4');\n",
       "        const dataTable =\n",
       "          await google.colab.kernel.invokeFunction('convertToInteractive',\n",
       "                                                    [key], {});\n",
       "        if (!dataTable) return;\n",
       "\n",
       "        const docLinkHtml = 'Like what you see? Visit the ' +\n",
       "          '<a target=\"_blank\" href=https://colab.research.google.com/notebooks/data_table.ipynb>data table notebook</a>'\n",
       "          + ' to learn more about interactive tables.';\n",
       "        element.innerHTML = '';\n",
       "        dataTable['output_type'] = 'display_data';\n",
       "        await google.colab.output.renderOutput(dataTable, element);\n",
       "        const docLink = document.createElement('div');\n",
       "        docLink.innerHTML = docLinkHtml;\n",
       "        element.appendChild(docLink);\n",
       "      }\n",
       "    </script>\n",
       "  </div>\n",
       "\n",
       "\n",
       "<div id=\"df-880587e3-e86e-4cd4-a43c-0ffac06fb5f5\">\n",
       "  <button class=\"colab-df-quickchart\" onclick=\"quickchart('df-880587e3-e86e-4cd4-a43c-0ffac06fb5f5')\"\n",
       "            title=\"Suggest charts\"\n",
       "            style=\"display:none;\">\n",
       "\n",
       "<svg xmlns=\"http://www.w3.org/2000/svg\" height=\"24px\"viewBox=\"0 0 24 24\"\n",
       "     width=\"24px\">\n",
       "    <g>\n",
       "        <path d=\"M19 3H5c-1.1 0-2 .9-2 2v14c0 1.1.9 2 2 2h14c1.1 0 2-.9 2-2V5c0-1.1-.9-2-2-2zM9 17H7v-7h2v7zm4 0h-2V7h2v10zm4 0h-2v-4h2v4z\"/>\n",
       "    </g>\n",
       "</svg>\n",
       "  </button>\n",
       "\n",
       "<style>\n",
       "  .colab-df-quickchart {\n",
       "      --bg-color: #E8F0FE;\n",
       "      --fill-color: #1967D2;\n",
       "      --hover-bg-color: #E2EBFA;\n",
       "      --hover-fill-color: #174EA6;\n",
       "      --disabled-fill-color: #AAA;\n",
       "      --disabled-bg-color: #DDD;\n",
       "  }\n",
       "\n",
       "  [theme=dark] .colab-df-quickchart {\n",
       "      --bg-color: #3B4455;\n",
       "      --fill-color: #D2E3FC;\n",
       "      --hover-bg-color: #434B5C;\n",
       "      --hover-fill-color: #FFFFFF;\n",
       "      --disabled-bg-color: #3B4455;\n",
       "      --disabled-fill-color: #666;\n",
       "  }\n",
       "\n",
       "  .colab-df-quickchart {\n",
       "    background-color: var(--bg-color);\n",
       "    border: none;\n",
       "    border-radius: 50%;\n",
       "    cursor: pointer;\n",
       "    display: none;\n",
       "    fill: var(--fill-color);\n",
       "    height: 32px;\n",
       "    padding: 0;\n",
       "    width: 32px;\n",
       "  }\n",
       "\n",
       "  .colab-df-quickchart:hover {\n",
       "    background-color: var(--hover-bg-color);\n",
       "    box-shadow: 0 1px 2px rgba(60, 64, 67, 0.3), 0 1px 3px 1px rgba(60, 64, 67, 0.15);\n",
       "    fill: var(--button-hover-fill-color);\n",
       "  }\n",
       "\n",
       "  .colab-df-quickchart-complete:disabled,\n",
       "  .colab-df-quickchart-complete:disabled:hover {\n",
       "    background-color: var(--disabled-bg-color);\n",
       "    fill: var(--disabled-fill-color);\n",
       "    box-shadow: none;\n",
       "  }\n",
       "\n",
       "  .colab-df-spinner {\n",
       "    border: 2px solid var(--fill-color);\n",
       "    border-color: transparent;\n",
       "    border-bottom-color: var(--fill-color);\n",
       "    animation:\n",
       "      spin 1s steps(1) infinite;\n",
       "  }\n",
       "\n",
       "  @keyframes spin {\n",
       "    0% {\n",
       "      border-color: transparent;\n",
       "      border-bottom-color: var(--fill-color);\n",
       "      border-left-color: var(--fill-color);\n",
       "    }\n",
       "    20% {\n",
       "      border-color: transparent;\n",
       "      border-left-color: var(--fill-color);\n",
       "      border-top-color: var(--fill-color);\n",
       "    }\n",
       "    30% {\n",
       "      border-color: transparent;\n",
       "      border-left-color: var(--fill-color);\n",
       "      border-top-color: var(--fill-color);\n",
       "      border-right-color: var(--fill-color);\n",
       "    }\n",
       "    40% {\n",
       "      border-color: transparent;\n",
       "      border-right-color: var(--fill-color);\n",
       "      border-top-color: var(--fill-color);\n",
       "    }\n",
       "    60% {\n",
       "      border-color: transparent;\n",
       "      border-right-color: var(--fill-color);\n",
       "    }\n",
       "    80% {\n",
       "      border-color: transparent;\n",
       "      border-right-color: var(--fill-color);\n",
       "      border-bottom-color: var(--fill-color);\n",
       "    }\n",
       "    90% {\n",
       "      border-color: transparent;\n",
       "      border-bottom-color: var(--fill-color);\n",
       "    }\n",
       "  }\n",
       "</style>\n",
       "\n",
       "  <script>\n",
       "    async function quickchart(key) {\n",
       "      const quickchartButtonEl =\n",
       "        document.querySelector('#' + key + ' button');\n",
       "      quickchartButtonEl.disabled = true;  // To prevent multiple clicks.\n",
       "      quickchartButtonEl.classList.add('colab-df-spinner');\n",
       "      try {\n",
       "        const charts = await google.colab.kernel.invokeFunction(\n",
       "            'suggestCharts', [key], {});\n",
       "      } catch (error) {\n",
       "        console.error('Error during call to suggestCharts:', error);\n",
       "      }\n",
       "      quickchartButtonEl.classList.remove('colab-df-spinner');\n",
       "      quickchartButtonEl.classList.add('colab-df-quickchart-complete');\n",
       "    }\n",
       "    (() => {\n",
       "      let quickchartButtonEl =\n",
       "        document.querySelector('#df-880587e3-e86e-4cd4-a43c-0ffac06fb5f5 button');\n",
       "      quickchartButtonEl.style.display =\n",
       "        google.colab.kernel.accessAllowed ? 'block' : 'none';\n",
       "    })();\n",
       "  </script>\n",
       "</div>\n",
       "\n",
       "    </div>\n",
       "  </div>\n"
      ],
      "text/plain": [
       "        Price  Year  Mileage  M_Camry  M_Camry4dr  M_CamryBase  M_CamryL  \\\n",
       "137130   8995  2010    88909        0           0            0         1   \n",
       "51669   16500  2015    27217        0           0            0         1   \n",
       "199443  13695  2012    77117        0           1            0         1   \n",
       "292826  19999  2016    35504        0           0            0         1   \n",
       "372365  17302  2017    14738        0           0            0         1   \n",
       "...       ...   ...      ...      ...         ...          ...       ...   \n",
       "206104  15800  2015    33395        0           0            0         1   \n",
       "160997  17000  2014    28864        0           0            0         1   \n",
       "146432  17295  2016    30214        0           0            0         1   \n",
       "78810   14777  2014    54924        0           0            0         0   \n",
       "96601   15495  2016    46764        0           0            0         1   \n",
       "\n",
       "        M_CamryLE  M_CamrySE  M_CamryXLE  \n",
       "137130          1          0           0  \n",
       "51669           0          1           0  \n",
       "199443          0          0           0  \n",
       "292826          0          1           0  \n",
       "372365          0          1           0  \n",
       "...           ...        ...         ...  \n",
       "206104          1          0           0  \n",
       "160997          0          0           1  \n",
       "146432          1          0           0  \n",
       "78810           0          0           0  \n",
       "96601           0          1           0  \n",
       "\n",
       "[10495 rows x 10 columns]"
      ]
     },
     "execution_count": 30,
     "metadata": {},
     "output_type": "execute_result"
    }
   ],
   "source": [
    "# Visualización muestra boostrap #1 para entremiento\n",
    "data.iloc[samples[0], :]"
   ]
  },
  {
   "cell_type": "code",
   "execution_count": 31,
   "metadata": {
    "colab": {
     "base_uri": "https://localhost:8080/",
     "height": 424
    },
    "id": "4sFr4x520Uzj",
    "outputId": "df0aa97e-1d03-4c47-9b88-97785d3cf0cf"
   },
   "outputs": [
    {
     "data": {
      "application/vnd.google.colaboratory.intrinsic+json": {
       "repr_error": "0",
       "type": "dataframe",
       "variable_name": "y_pred"
      },
      "text/html": [
       "\n",
       "  <div id=\"df-beb4446e-df38-4d22-9da6-d8fa43e86db7\" class=\"colab-df-container\">\n",
       "    <div>\n",
       "<style scoped>\n",
       "    .dataframe tbody tr th:only-of-type {\n",
       "        vertical-align: middle;\n",
       "    }\n",
       "\n",
       "    .dataframe tbody tr th {\n",
       "        vertical-align: top;\n",
       "    }\n",
       "\n",
       "    .dataframe thead tr th {\n",
       "        text-align: left;\n",
       "    }\n",
       "</style>\n",
       "<table border=\"1\" class=\"dataframe\">\n",
       "  <thead>\n",
       "    <tr>\n",
       "      <th></th>\n",
       "      <th>0</th>\n",
       "      <th>1</th>\n",
       "      <th>2</th>\n",
       "      <th>3</th>\n",
       "      <th>4</th>\n",
       "      <th>5</th>\n",
       "      <th>6</th>\n",
       "      <th>7</th>\n",
       "      <th>8</th>\n",
       "      <th>9</th>\n",
       "    </tr>\n",
       "  </thead>\n",
       "  <tbody>\n",
       "    <tr>\n",
       "      <th>7</th>\n",
       "      <td>21995.0</td>\n",
       "      <td>21995.0</td>\n",
       "      <td>15997.0</td>\n",
       "      <td>21995.0</td>\n",
       "      <td>21995.0</td>\n",
       "      <td>21995.0</td>\n",
       "      <td>21995.0</td>\n",
       "      <td>21995.0</td>\n",
       "      <td>21995.0</td>\n",
       "      <td>18700.0</td>\n",
       "    </tr>\n",
       "    <tr>\n",
       "      <th>11</th>\n",
       "      <td>13995.0</td>\n",
       "      <td>14500.0</td>\n",
       "      <td>13988.0</td>\n",
       "      <td>14750.0</td>\n",
       "      <td>13988.0</td>\n",
       "      <td>13995.0</td>\n",
       "      <td>13995.0</td>\n",
       "      <td>13995.0</td>\n",
       "      <td>13995.0</td>\n",
       "      <td>13988.0</td>\n",
       "    </tr>\n",
       "    <tr>\n",
       "      <th>167</th>\n",
       "      <td>18000.0</td>\n",
       "      <td>17941.0</td>\n",
       "      <td>17941.0</td>\n",
       "      <td>19994.0</td>\n",
       "      <td>17941.0</td>\n",
       "      <td>17941.0</td>\n",
       "      <td>17941.0</td>\n",
       "      <td>17941.0</td>\n",
       "      <td>17941.0</td>\n",
       "      <td>19994.0</td>\n",
       "    </tr>\n",
       "    <tr>\n",
       "      <th>225</th>\n",
       "      <td>12493.0</td>\n",
       "      <td>12493.0</td>\n",
       "      <td>12493.0</td>\n",
       "      <td>16903.0</td>\n",
       "      <td>14999.0</td>\n",
       "      <td>12493.0</td>\n",
       "      <td>12493.0</td>\n",
       "      <td>15579.0</td>\n",
       "      <td>14999.0</td>\n",
       "      <td>14369.0</td>\n",
       "    </tr>\n",
       "    <tr>\n",
       "      <th>270</th>\n",
       "      <td>7994.0</td>\n",
       "      <td>6494.0</td>\n",
       "      <td>7994.0</td>\n",
       "      <td>6495.0</td>\n",
       "      <td>7994.0</td>\n",
       "      <td>11995.0</td>\n",
       "      <td>7994.0</td>\n",
       "      <td>6494.0</td>\n",
       "      <td>7994.0</td>\n",
       "      <td>6494.0</td>\n",
       "    </tr>\n",
       "    <tr>\n",
       "      <th>...</th>\n",
       "      <td>...</td>\n",
       "      <td>...</td>\n",
       "      <td>...</td>\n",
       "      <td>...</td>\n",
       "      <td>...</td>\n",
       "      <td>...</td>\n",
       "      <td>...</td>\n",
       "      <td>...</td>\n",
       "      <td>...</td>\n",
       "      <td>...</td>\n",
       "    </tr>\n",
       "    <tr>\n",
       "      <th>399845</th>\n",
       "      <td>21000.0</td>\n",
       "      <td>20825.0</td>\n",
       "      <td>20825.0</td>\n",
       "      <td>20825.0</td>\n",
       "      <td>19950.0</td>\n",
       "      <td>20825.0</td>\n",
       "      <td>20825.0</td>\n",
       "      <td>20774.0</td>\n",
       "      <td>17595.0</td>\n",
       "      <td>20825.0</td>\n",
       "    </tr>\n",
       "    <tr>\n",
       "      <th>399928</th>\n",
       "      <td>12995.0</td>\n",
       "      <td>12995.0</td>\n",
       "      <td>12995.0</td>\n",
       "      <td>12995.0</td>\n",
       "      <td>14590.0</td>\n",
       "      <td>12995.0</td>\n",
       "      <td>14590.0</td>\n",
       "      <td>12995.0</td>\n",
       "      <td>14590.0</td>\n",
       "      <td>12995.0</td>\n",
       "    </tr>\n",
       "    <tr>\n",
       "      <th>399934</th>\n",
       "      <td>6900.0</td>\n",
       "      <td>7988.0</td>\n",
       "      <td>8812.0</td>\n",
       "      <td>8812.0</td>\n",
       "      <td>6940.0</td>\n",
       "      <td>10500.0</td>\n",
       "      <td>8812.0</td>\n",
       "      <td>6900.0</td>\n",
       "      <td>8812.0</td>\n",
       "      <td>8812.0</td>\n",
       "    </tr>\n",
       "    <tr>\n",
       "      <th>399951</th>\n",
       "      <td>11595.0</td>\n",
       "      <td>11595.0</td>\n",
       "      <td>11595.0</td>\n",
       "      <td>11595.0</td>\n",
       "      <td>11595.0</td>\n",
       "      <td>11595.0</td>\n",
       "      <td>11595.0</td>\n",
       "      <td>8881.0</td>\n",
       "      <td>8881.0</td>\n",
       "      <td>11595.0</td>\n",
       "    </tr>\n",
       "    <tr>\n",
       "      <th>399976</th>\n",
       "      <td>13995.0</td>\n",
       "      <td>13995.0</td>\n",
       "      <td>13995.0</td>\n",
       "      <td>13995.0</td>\n",
       "      <td>13995.0</td>\n",
       "      <td>15999.0</td>\n",
       "      <td>15999.0</td>\n",
       "      <td>12399.0</td>\n",
       "      <td>13995.0</td>\n",
       "      <td>15999.0</td>\n",
       "    </tr>\n",
       "  </tbody>\n",
       "</table>\n",
       "<p>10495 rows × 10 columns</p>\n",
       "</div>\n",
       "    <div class=\"colab-df-buttons\">\n",
       "\n",
       "  <div class=\"colab-df-container\">\n",
       "    <button class=\"colab-df-convert\" onclick=\"convertToInteractive('df-beb4446e-df38-4d22-9da6-d8fa43e86db7')\"\n",
       "            title=\"Convert this dataframe to an interactive table.\"\n",
       "            style=\"display:none;\">\n",
       "\n",
       "  <svg xmlns=\"http://www.w3.org/2000/svg\" height=\"24px\" viewBox=\"0 -960 960 960\">\n",
       "    <path d=\"M120-120v-720h720v720H120Zm60-500h600v-160H180v160Zm220 220h160v-160H400v160Zm0 220h160v-160H400v160ZM180-400h160v-160H180v160Zm440 0h160v-160H620v160ZM180-180h160v-160H180v160Zm440 0h160v-160H620v160Z\"/>\n",
       "  </svg>\n",
       "    </button>\n",
       "\n",
       "  <style>\n",
       "    .colab-df-container {\n",
       "      display:flex;\n",
       "      gap: 12px;\n",
       "    }\n",
       "\n",
       "    .colab-df-convert {\n",
       "      background-color: #E8F0FE;\n",
       "      border: none;\n",
       "      border-radius: 50%;\n",
       "      cursor: pointer;\n",
       "      display: none;\n",
       "      fill: #1967D2;\n",
       "      height: 32px;\n",
       "      padding: 0 0 0 0;\n",
       "      width: 32px;\n",
       "    }\n",
       "\n",
       "    .colab-df-convert:hover {\n",
       "      background-color: #E2EBFA;\n",
       "      box-shadow: 0px 1px 2px rgba(60, 64, 67, 0.3), 0px 1px 3px 1px rgba(60, 64, 67, 0.15);\n",
       "      fill: #174EA6;\n",
       "    }\n",
       "\n",
       "    .colab-df-buttons div {\n",
       "      margin-bottom: 4px;\n",
       "    }\n",
       "\n",
       "    [theme=dark] .colab-df-convert {\n",
       "      background-color: #3B4455;\n",
       "      fill: #D2E3FC;\n",
       "    }\n",
       "\n",
       "    [theme=dark] .colab-df-convert:hover {\n",
       "      background-color: #434B5C;\n",
       "      box-shadow: 0px 1px 3px 1px rgba(0, 0, 0, 0.15);\n",
       "      filter: drop-shadow(0px 1px 2px rgba(0, 0, 0, 0.3));\n",
       "      fill: #FFFFFF;\n",
       "    }\n",
       "  </style>\n",
       "\n",
       "    <script>\n",
       "      const buttonEl =\n",
       "        document.querySelector('#df-beb4446e-df38-4d22-9da6-d8fa43e86db7 button.colab-df-convert');\n",
       "      buttonEl.style.display =\n",
       "        google.colab.kernel.accessAllowed ? 'block' : 'none';\n",
       "\n",
       "      async function convertToInteractive(key) {\n",
       "        const element = document.querySelector('#df-beb4446e-df38-4d22-9da6-d8fa43e86db7');\n",
       "        const dataTable =\n",
       "          await google.colab.kernel.invokeFunction('convertToInteractive',\n",
       "                                                    [key], {});\n",
       "        if (!dataTable) return;\n",
       "\n",
       "        const docLinkHtml = 'Like what you see? Visit the ' +\n",
       "          '<a target=\"_blank\" href=https://colab.research.google.com/notebooks/data_table.ipynb>data table notebook</a>'\n",
       "          + ' to learn more about interactive tables.';\n",
       "        element.innerHTML = '';\n",
       "        dataTable['output_type'] = 'display_data';\n",
       "        await google.colab.output.renderOutput(dataTable, element);\n",
       "        const docLink = document.createElement('div');\n",
       "        docLink.innerHTML = docLinkHtml;\n",
       "        element.appendChild(docLink);\n",
       "      }\n",
       "    </script>\n",
       "  </div>\n",
       "\n",
       "\n",
       "<div id=\"df-2034a9ab-ec7c-4dee-b947-b05b657eb905\">\n",
       "  <button class=\"colab-df-quickchart\" onclick=\"quickchart('df-2034a9ab-ec7c-4dee-b947-b05b657eb905')\"\n",
       "            title=\"Suggest charts\"\n",
       "            style=\"display:none;\">\n",
       "\n",
       "<svg xmlns=\"http://www.w3.org/2000/svg\" height=\"24px\"viewBox=\"0 0 24 24\"\n",
       "     width=\"24px\">\n",
       "    <g>\n",
       "        <path d=\"M19 3H5c-1.1 0-2 .9-2 2v14c0 1.1.9 2 2 2h14c1.1 0 2-.9 2-2V5c0-1.1-.9-2-2-2zM9 17H7v-7h2v7zm4 0h-2V7h2v10zm4 0h-2v-4h2v4z\"/>\n",
       "    </g>\n",
       "</svg>\n",
       "  </button>\n",
       "\n",
       "<style>\n",
       "  .colab-df-quickchart {\n",
       "      --bg-color: #E8F0FE;\n",
       "      --fill-color: #1967D2;\n",
       "      --hover-bg-color: #E2EBFA;\n",
       "      --hover-fill-color: #174EA6;\n",
       "      --disabled-fill-color: #AAA;\n",
       "      --disabled-bg-color: #DDD;\n",
       "  }\n",
       "\n",
       "  [theme=dark] .colab-df-quickchart {\n",
       "      --bg-color: #3B4455;\n",
       "      --fill-color: #D2E3FC;\n",
       "      --hover-bg-color: #434B5C;\n",
       "      --hover-fill-color: #FFFFFF;\n",
       "      --disabled-bg-color: #3B4455;\n",
       "      --disabled-fill-color: #666;\n",
       "  }\n",
       "\n",
       "  .colab-df-quickchart {\n",
       "    background-color: var(--bg-color);\n",
       "    border: none;\n",
       "    border-radius: 50%;\n",
       "    cursor: pointer;\n",
       "    display: none;\n",
       "    fill: var(--fill-color);\n",
       "    height: 32px;\n",
       "    padding: 0;\n",
       "    width: 32px;\n",
       "  }\n",
       "\n",
       "  .colab-df-quickchart:hover {\n",
       "    background-color: var(--hover-bg-color);\n",
       "    box-shadow: 0 1px 2px rgba(60, 64, 67, 0.3), 0 1px 3px 1px rgba(60, 64, 67, 0.15);\n",
       "    fill: var(--button-hover-fill-color);\n",
       "  }\n",
       "\n",
       "  .colab-df-quickchart-complete:disabled,\n",
       "  .colab-df-quickchart-complete:disabled:hover {\n",
       "    background-color: var(--disabled-bg-color);\n",
       "    fill: var(--disabled-fill-color);\n",
       "    box-shadow: none;\n",
       "  }\n",
       "\n",
       "  .colab-df-spinner {\n",
       "    border: 2px solid var(--fill-color);\n",
       "    border-color: transparent;\n",
       "    border-bottom-color: var(--fill-color);\n",
       "    animation:\n",
       "      spin 1s steps(1) infinite;\n",
       "  }\n",
       "\n",
       "  @keyframes spin {\n",
       "    0% {\n",
       "      border-color: transparent;\n",
       "      border-bottom-color: var(--fill-color);\n",
       "      border-left-color: var(--fill-color);\n",
       "    }\n",
       "    20% {\n",
       "      border-color: transparent;\n",
       "      border-left-color: var(--fill-color);\n",
       "      border-top-color: var(--fill-color);\n",
       "    }\n",
       "    30% {\n",
       "      border-color: transparent;\n",
       "      border-left-color: var(--fill-color);\n",
       "      border-top-color: var(--fill-color);\n",
       "      border-right-color: var(--fill-color);\n",
       "    }\n",
       "    40% {\n",
       "      border-color: transparent;\n",
       "      border-right-color: var(--fill-color);\n",
       "      border-top-color: var(--fill-color);\n",
       "    }\n",
       "    60% {\n",
       "      border-color: transparent;\n",
       "      border-right-color: var(--fill-color);\n",
       "    }\n",
       "    80% {\n",
       "      border-color: transparent;\n",
       "      border-right-color: var(--fill-color);\n",
       "      border-bottom-color: var(--fill-color);\n",
       "    }\n",
       "    90% {\n",
       "      border-color: transparent;\n",
       "      border-bottom-color: var(--fill-color);\n",
       "    }\n",
       "  }\n",
       "</style>\n",
       "\n",
       "  <script>\n",
       "    async function quickchart(key) {\n",
       "      const quickchartButtonEl =\n",
       "        document.querySelector('#' + key + ' button');\n",
       "      quickchartButtonEl.disabled = true;  // To prevent multiple clicks.\n",
       "      quickchartButtonEl.classList.add('colab-df-spinner');\n",
       "      try {\n",
       "        const charts = await google.colab.kernel.invokeFunction(\n",
       "            'suggestCharts', [key], {});\n",
       "      } catch (error) {\n",
       "        console.error('Error during call to suggestCharts:', error);\n",
       "      }\n",
       "      quickchartButtonEl.classList.remove('colab-df-spinner');\n",
       "      quickchartButtonEl.classList.add('colab-df-quickchart-complete');\n",
       "    }\n",
       "    (() => {\n",
       "      let quickchartButtonEl =\n",
       "        document.querySelector('#df-2034a9ab-ec7c-4dee-b947-b05b657eb905 button');\n",
       "      quickchartButtonEl.style.display =\n",
       "        google.colab.kernel.accessAllowed ? 'block' : 'none';\n",
       "    })();\n",
       "  </script>\n",
       "</div>\n",
       "\n",
       "  <div id=\"id_2f372dbd-0849-4bd8-89aa-b432e76f0b28\">\n",
       "    <style>\n",
       "      .colab-df-generate {\n",
       "        background-color: #E8F0FE;\n",
       "        border: none;\n",
       "        border-radius: 50%;\n",
       "        cursor: pointer;\n",
       "        display: none;\n",
       "        fill: #1967D2;\n",
       "        height: 32px;\n",
       "        padding: 0 0 0 0;\n",
       "        width: 32px;\n",
       "      }\n",
       "\n",
       "      .colab-df-generate:hover {\n",
       "        background-color: #E2EBFA;\n",
       "        box-shadow: 0px 1px 2px rgba(60, 64, 67, 0.3), 0px 1px 3px 1px rgba(60, 64, 67, 0.15);\n",
       "        fill: #174EA6;\n",
       "      }\n",
       "\n",
       "      [theme=dark] .colab-df-generate {\n",
       "        background-color: #3B4455;\n",
       "        fill: #D2E3FC;\n",
       "      }\n",
       "\n",
       "      [theme=dark] .colab-df-generate:hover {\n",
       "        background-color: #434B5C;\n",
       "        box-shadow: 0px 1px 3px 1px rgba(0, 0, 0, 0.15);\n",
       "        filter: drop-shadow(0px 1px 2px rgba(0, 0, 0, 0.3));\n",
       "        fill: #FFFFFF;\n",
       "      }\n",
       "    </style>\n",
       "    <button class=\"colab-df-generate\" onclick=\"generateWithVariable('y_pred')\"\n",
       "            title=\"Generate code using this dataframe.\"\n",
       "            style=\"display:none;\">\n",
       "\n",
       "  <svg xmlns=\"http://www.w3.org/2000/svg\" height=\"24px\"viewBox=\"0 0 24 24\"\n",
       "       width=\"24px\">\n",
       "    <path d=\"M7,19H8.4L18.45,9,17,7.55,7,17.6ZM5,21V16.75L18.45,3.32a2,2,0,0,1,2.83,0l1.4,1.43a1.91,1.91,0,0,1,.58,1.4,1.91,1.91,0,0,1-.58,1.4L9.25,21ZM18.45,9,17,7.55Zm-12,3A5.31,5.31,0,0,0,4.9,8.1,5.31,5.31,0,0,0,1,6.5,5.31,5.31,0,0,0,4.9,4.9,5.31,5.31,0,0,0,6.5,1,5.31,5.31,0,0,0,8.1,4.9,5.31,5.31,0,0,0,12,6.5,5.46,5.46,0,0,0,6.5,12Z\"/>\n",
       "  </svg>\n",
       "    </button>\n",
       "    <script>\n",
       "      (() => {\n",
       "      const buttonEl =\n",
       "        document.querySelector('#id_2f372dbd-0849-4bd8-89aa-b432e76f0b28 button.colab-df-generate');\n",
       "      buttonEl.style.display =\n",
       "        google.colab.kernel.accessAllowed ? 'block' : 'none';\n",
       "\n",
       "      buttonEl.onclick = () => {\n",
       "        google.colab.notebook.generateWithVariable('y_pred');\n",
       "      }\n",
       "      })();\n",
       "    </script>\n",
       "  </div>\n",
       "\n",
       "    </div>\n",
       "  </div>\n"
      ],
      "text/plain": [
       "              0        1        2        3        4        5        6  \\\n",
       "7       21995.0  21995.0  15997.0  21995.0  21995.0  21995.0  21995.0   \n",
       "11      13995.0  14500.0  13988.0  14750.0  13988.0  13995.0  13995.0   \n",
       "167     18000.0  17941.0  17941.0  19994.0  17941.0  17941.0  17941.0   \n",
       "225     12493.0  12493.0  12493.0  16903.0  14999.0  12493.0  12493.0   \n",
       "270      7994.0   6494.0   7994.0   6495.0   7994.0  11995.0   7994.0   \n",
       "...         ...      ...      ...      ...      ...      ...      ...   \n",
       "399845  21000.0  20825.0  20825.0  20825.0  19950.0  20825.0  20825.0   \n",
       "399928  12995.0  12995.0  12995.0  12995.0  14590.0  12995.0  14590.0   \n",
       "399934   6900.0   7988.0   8812.0   8812.0   6940.0  10500.0   8812.0   \n",
       "399951  11595.0  11595.0  11595.0  11595.0  11595.0  11595.0  11595.0   \n",
       "399976  13995.0  13995.0  13995.0  13995.0  13995.0  15999.0  15999.0   \n",
       "\n",
       "              7        8        9  \n",
       "7       21995.0  21995.0  18700.0  \n",
       "11      13995.0  13995.0  13988.0  \n",
       "167     17941.0  17941.0  19994.0  \n",
       "225     15579.0  14999.0  14369.0  \n",
       "270      6494.0   7994.0   6494.0  \n",
       "...         ...      ...      ...  \n",
       "399845  20774.0  17595.0  20825.0  \n",
       "399928  12995.0  14590.0  12995.0  \n",
       "399934   6900.0   8812.0   8812.0  \n",
       "399951   8881.0   8881.0  11595.0  \n",
       "399976  12399.0  13995.0  15999.0  \n",
       "\n",
       "[10495 rows x 10 columns]"
      ]
     },
     "execution_count": 31,
     "metadata": {},
     "output_type": "execute_result"
    }
   ],
   "source": [
    "# Construcción un árbol de decisión para cada muestra boostrap\n",
    "\n",
    "from sklearn.tree import DecisionTreeRegressor\n",
    "\n",
    "# Definición del modelo usando DecisionTreeRegressor de sklearn\n",
    "treereg = DecisionTreeRegressor(max_depth=None, random_state=123)\n",
    "\n",
    "# DataFrame para guardar las predicciones de cada árbol\n",
    "y_pred = pd.DataFrame(index=data.index, columns=[list(range(n_B))])\n",
    "\n",
    "# Entrenamiento de un árbol sobre cada muestra boostrap y predicción sobre los datos de test\n",
    "for i, sample in enumerate(samples):\n",
    "    X_train2 = data.iloc[sample, 1:]\n",
    "    y_train2 = data.iloc[sample, 0]\n",
    "    treereg.fit(X_train2, y_train2)\n",
    "    y_pred.iloc[:,i] = treereg.predict(X)\n",
    "\n",
    "y_pred"
   ]
  },
  {
   "cell_type": "code",
   "execution_count": 32,
   "metadata": {
    "colab": {
     "base_uri": "https://localhost:8080/"
    },
    "id": "jp_ZNnzt0Uzk",
    "outputId": "2b2cce85-9d6b-4904-f918-eca65720ee45"
   },
   "outputs": [
    {
     "name": "stdout",
     "output_type": "stream",
     "text": [
      "Árbol  0 tiene un error:  1306.9871286148239\n",
      "Árbol  1 tiene un error:  1276.0853969826583\n",
      "Árbol  2 tiene un error:  1321.8929753792552\n",
      "Árbol  3 tiene un error:  1278.697692073542\n",
      "Árbol  4 tiene un error:  1293.9416032254699\n",
      "Árbol  5 tiene un error:  1288.2035995426586\n",
      "Árbol  6 tiene un error:  1287.8467638609518\n",
      "Árbol  7 tiene un error:  1281.488561204204\n",
      "Árbol  8 tiene un error:  1285.692932775307\n",
      "Árbol  9 tiene un error:  1316.92557440069\n"
     ]
    }
   ],
   "source": [
    "# Desempeño de cada árbol\n",
    "for i in range(n_B):\n",
    "    print('Árbol ', i, 'tiene un error: ', np.sqrt(mean_squared_error(y_pred.iloc[:,i], y)))"
   ]
  },
  {
   "cell_type": "code",
   "execution_count": 33,
   "metadata": {
    "colab": {
     "base_uri": "https://localhost:8080/",
     "height": 458
    },
    "id": "m8_9ZMF60Uzk",
    "outputId": "bd0d4567-ce9a-4355-dff0-46d3995b8900"
   },
   "outputs": [
    {
     "data": {
      "text/html": [
       "<div>\n",
       "<style scoped>\n",
       "    .dataframe tbody tr th:only-of-type {\n",
       "        vertical-align: middle;\n",
       "    }\n",
       "\n",
       "    .dataframe tbody tr th {\n",
       "        vertical-align: top;\n",
       "    }\n",
       "\n",
       "    .dataframe thead th {\n",
       "        text-align: right;\n",
       "    }\n",
       "</style>\n",
       "<table border=\"1\" class=\"dataframe\">\n",
       "  <thead>\n",
       "    <tr style=\"text-align: right;\">\n",
       "      <th></th>\n",
       "      <th>0</th>\n",
       "    </tr>\n",
       "  </thead>\n",
       "  <tbody>\n",
       "    <tr>\n",
       "      <th>7</th>\n",
       "      <td>21065.7</td>\n",
       "    </tr>\n",
       "    <tr>\n",
       "      <th>11</th>\n",
       "      <td>14118.9</td>\n",
       "    </tr>\n",
       "    <tr>\n",
       "      <th>167</th>\n",
       "      <td>18357.5</td>\n",
       "    </tr>\n",
       "    <tr>\n",
       "      <th>225</th>\n",
       "      <td>13931.4</td>\n",
       "    </tr>\n",
       "    <tr>\n",
       "      <th>270</th>\n",
       "      <td>7794.2</td>\n",
       "    </tr>\n",
       "    <tr>\n",
       "      <th>...</th>\n",
       "      <td>...</td>\n",
       "    </tr>\n",
       "    <tr>\n",
       "      <th>399845</th>\n",
       "      <td>20426.9</td>\n",
       "    </tr>\n",
       "    <tr>\n",
       "      <th>399928</th>\n",
       "      <td>13473.5</td>\n",
       "    </tr>\n",
       "    <tr>\n",
       "      <th>399934</th>\n",
       "      <td>8328.8</td>\n",
       "    </tr>\n",
       "    <tr>\n",
       "      <th>399951</th>\n",
       "      <td>11052.2</td>\n",
       "    </tr>\n",
       "    <tr>\n",
       "      <th>399976</th>\n",
       "      <td>14436.6</td>\n",
       "    </tr>\n",
       "  </tbody>\n",
       "</table>\n",
       "<p>10495 rows × 1 columns</p>\n",
       "</div><br><label><b>dtype:</b> object</label>"
      ],
      "text/plain": [
       "7         21065.7\n",
       "11        14118.9\n",
       "167       18357.5\n",
       "225       13931.4\n",
       "270        7794.2\n",
       "           ...   \n",
       "399845    20426.9\n",
       "399928    13473.5\n",
       "399934     8328.8\n",
       "399951    11052.2\n",
       "399976    14436.6\n",
       "Length: 10495, dtype: object"
      ]
     },
     "execution_count": 33,
     "metadata": {},
     "output_type": "execute_result"
    }
   ],
   "source": [
    "# Predicciones promedio para cada obserbación del set de test\n",
    "y_pred.mean(axis=1)"
   ]
  },
  {
   "cell_type": "code",
   "execution_count": 34,
   "metadata": {
    "colab": {
     "base_uri": "https://localhost:8080/"
    },
    "id": "_Tj4NIaE0Uz9",
    "outputId": "de8c51bd-8dd3-430b-d2f6-084239066b42"
   },
   "outputs": [
    {
     "data": {
      "text/plain": [
       "np.float64(744.9839911417182)"
      ]
     },
     "execution_count": 34,
     "metadata": {},
     "output_type": "execute_result"
    }
   ],
   "source": [
    "# Error al promediar las predicciones de todos los árboles\n",
    "np.sqrt(mean_squared_error(y, y_pred.mean(axis=1)))"
   ]
  },
  {
   "cell_type": "markdown",
   "metadata": {
    "id": "-TAdqX3a0Uz9"
   },
   "source": [
    "El RMSE = 745 significa que, en promedio, las predicciones del modelo de Bagging están a 745 unidades de los valores reales respecto a los precios reales del automovil. Es decir, las predicciones del modelo están desviadas en promedio 745 unidades respecto a los precios verdaderos."
   ]
  },
  {
   "cell_type": "markdown",
   "metadata": {
    "id": "OVwATo5H0Uz-"
   },
   "source": [
    "### Punto 3 - Bagging con librería\n",
    "\n",
    "En la celda 3, con la librería sklearn, entrenen un modelo bagging con 10 árboles de regresión y el parámetro `max_features` igual a `log(n_features)` y comenten sobre el desempeño del modelo."
   ]
  },
  {
   "cell_type": "code",
   "execution_count": 35,
   "metadata": {
    "id": "cQP2LzM50Uz-"
   },
   "outputs": [],
   "source": [
    "# Uso de BaggingRegressor de la libreria (sklearn) donde se usa el modelo DecisionTreeRegressor como estimador\n",
    "from sklearn.ensemble import BaggingRegressor\n",
    "bagreg = BaggingRegressor(DecisionTreeRegressor(), n_estimators=100,\n",
    "                          bootstrap=True, oob_score=True, random_state=1)\n"
   ]
  },
  {
   "cell_type": "code",
   "execution_count": 36,
   "metadata": {
    "colab": {
     "base_uri": "https://localhost:8080/"
    },
    "id": "N_3VGxAS0Uz-",
    "outputId": "896ff4ea-13b2-4e34-9f87-2cf3cb57a71f"
   },
   "outputs": [
    {
     "data": {
      "text/plain": [
       "array([13160.69,  6520.77, 16406.15, ..., 21536.82, 12894.99, 11818.55])"
      ]
     },
     "execution_count": 36,
     "metadata": {},
     "output_type": "execute_result"
    }
   ],
   "source": [
    "# Entrenemiento del modelo con set de entrenamiento y predicción en el set de test\n",
    "bagreg.fit(X_train, y_train)\n",
    "y_pred = bagreg.predict(X_test)\n",
    "y_pred"
   ]
  },
  {
   "cell_type": "code",
   "execution_count": 37,
   "metadata": {
    "colab": {
     "base_uri": "https://localhost:8080/"
    },
    "id": "3udxQ4eU0Uz_",
    "outputId": "f289c779-26db-41c7-86f2-c0163f5b09d5"
   },
   "outputs": [
    {
     "data": {
      "text/plain": [
       "np.float64(1755.494590149069)"
      ]
     },
     "execution_count": 37,
     "metadata": {},
     "output_type": "execute_result"
    }
   ],
   "source": [
    "# Cálculo del error del modelo\n",
    "np.sqrt(mean_squared_error(y_test, y_pred))"
   ]
  },
  {
   "cell_type": "markdown",
   "metadata": {
    "id": "kvN3ys0C0Uz_"
   },
   "source": [
    "El valor de RMSE = 1251 significa que, en promedio, las predicciones del modelo están a 1251 unidades de los valores reales. Para nuestro caso sería bajo por el rango de los valores de los automóviles."
   ]
  },
  {
   "cell_type": "markdown",
   "metadata": {
    "id": "L5C7-uZ10Uz_"
   },
   "source": [
    "### Punto 4 - Random forest con librería\n",
    "\n",
    "En la celda 4, usando la librería sklearn entrenen un modelo de Randon Forest para regresión  y comenten sobre el desempeño del modelo."
   ]
  },
  {
   "cell_type": "code",
   "execution_count": 17,
   "metadata": {
    "id": "FPKkV7b20U0A"
   },
   "outputs": [
    {
     "name": "stdout",
     "output_type": "stream",
     "text": [
      "Metrica de desempeno:\n",
      "count    10.000000\n",
      "mean      0.801209\n",
      "std       0.011508\n",
      "min       0.780953\n",
      "25%       0.795997\n",
      "50%       0.803031\n",
      "75%       0.806345\n",
      "max       0.817589\n",
      "dtype: float64\n",
      "\n",
      "Desempeño en RMSE:\n",
      "count      10.000000\n",
      "mean     1746.236729\n",
      "std        53.451985\n",
      "min      1684.793848\n",
      "25%      1694.589472\n",
      "50%      1741.069206\n",
      "75%      1790.499601\n",
      "max      1817.370605\n",
      "dtype: float64\n"
     ]
    }
   ],
   "source": [
    "# Celda 4\n",
    "from sklearn.ensemble import RandomForestRegressor\n",
    "from sklearn.model_selection import cross_val_score\n",
    "\n",
    "# Definición de modelo Random Forest para un problema de clasificación\n",
    "reg = RandomForestRegressor()\n",
    "reg\n",
    "\n",
    "print('Metrica de desempeno:')\n",
    "print(pd.Series(cross_val_score(reg, X, y, cv=10, scoring='r2')).describe())\n",
    "\n",
    "# Evaluación del desempeño en RMSE\n",
    "rmse_scores = cross_val_score(reg, X, y, cv=10, scoring='neg_root_mean_squared_error')\n",
    "rmse_scores = -rmse_scores  # Convertir a valores positivos\n",
    "print(\"\\nDesempeño en RMSE:\")\n",
    "print(pd.Series(rmse_scores).describe())"
   ]
  },
  {
   "cell_type": "markdown",
   "metadata": {},
   "source": [
    "Este modelo de random forest contiene los parámetros por defecto que vienen dentro de la libreria sklearn. Tras realizar la validación cruzada, se observa un R2 de 0.80, lo que significa que al menos el 80% de los datos se predicen de manera correcta. Existe una leve diferencia entre los valores minimos y maximos, lo cual, aunque no de manera extrema demuestra diferencias entre el peor y mejor resultado. Por su parte, la mayoría de los resultados se encuentran alrededor del 0.80, tal como se aprecia con los percentiles."
   ]
  },
  {
   "cell_type": "markdown",
   "metadata": {
    "id": "V6nY8PF20U0A"
   },
   "source": [
    "### Punto 5 - Calibración de parámetros Random forest\n",
    "\n",
    "En la celda 5, calibren los parámetros max_depth, max_features y n_estimators del modelo de Randon Forest para regresión, comenten sobre el desempeño del modelo y describan cómo cada parámetro afecta el desempeño del modelo."
   ]
  },
  {
   "cell_type": "markdown",
   "metadata": {},
   "source": [
    "### Calibracion max_depth"
   ]
  },
  {
   "cell_type": "code",
   "execution_count": 5,
   "metadata": {
    "id": "Td52GG9z0U0A"
   },
   "outputs": [
    {
     "data": {
      "image/png": "[encoded data removed]",
      "text/plain": [
       "<Figure size 640x480 with 1 Axes>"
      ]
     },
     "metadata": {},
     "output_type": "display_data"
    },
    {
     "name": "stdout",
     "output_type": "stream",
     "text": [
      "Mejor R² para max_depth: 0.8467 con max_depth = 8\n"
     ]
    }
   ],
   "source": [
    "# Celda 5\n",
    "# Creación de lista de valores para iterar sobre diferentes valores de depth\n",
    "depth_range = range(1, 21)\n",
    "\n",
    "# Definición de lista para almacenar el R2 para cada valor de depth\n",
    "r2_scores_depth = []\n",
    "\n",
    "# Uso de un 5-fold cross-validation para cada valor de depth\n",
    "for depth in depth_range:\n",
    "    reg = RandomForestRegressor(n_estimators=200, max_depth=depth, random_state=1, n_jobs=-1)\n",
    "    r2_scores_depth.append(cross_val_score(reg, X, y, cv=5, scoring='r2').mean())\n",
    "    \n",
    "# Gráfica del desempeño del modelo vs la cantidad de depth\n",
    "plt.plot(depth_range, r2_scores_depth)\n",
    "plt.xlabel('max_depth')\n",
    "plt.ylabel('R² Score')\n",
    "plt.show()\n",
    "\n",
    "best_depth = depth_range[r2_scores_depth.index(max(r2_scores_depth))]\n",
    "best_r2_depth = max(r2_scores_depth)\n",
    "print(f\"Mejor R² para max_depth: {best_r2_depth:.4f} con max_depth = {best_depth}\")"
   ]
  },
  {
   "cell_type": "markdown",
   "metadata": {},
   "source": [
    "### Calibracion n_estimators"
   ]
  },
  {
   "cell_type": "code",
   "execution_count": 6,
   "metadata": {},
   "outputs": [
    {
     "data": {
      "image/png": "[encoded data removed]",
      "text/plain": [
       "<Figure size 640x480 with 1 Axes>"
      ]
     },
     "metadata": {},
     "output_type": "display_data"
    },
    {
     "name": "stdout",
     "output_type": "stream",
     "text": [
      "Mejor R² para n_estimators: 0.8028 con n_estimators = 300\n"
     ]
    }
   ],
   "source": [
    "# Celda 5\n",
    "# Creación de lista de valores para iterar sobre diferentes valores de n_estimators\n",
    "estimator_range = range(10, 310, 10)\n",
    "\n",
    "# Definición de lista para almacenar el R2 promedio para cada valor de n_estimators\n",
    "r2_scores = []\n",
    "\n",
    "# Uso de un 5-fold cross-validation para cada valor de n_estimators\n",
    "for estimator in estimator_range:\n",
    "    reg = RandomForestRegressor(n_estimators=estimator, random_state=1, n_jobs=-1)\n",
    "    r2_scores.append(cross_val_score(reg, X, y, cv=5, scoring='r2').mean())\n",
    "\n",
    "# Gráfica del desempeño del modelo vs la cantidad de n_estimators\n",
    "plt.plot(estimator_range, r2_scores)\n",
    "plt.xlabel('n_estimators')\n",
    "plt.ylabel('R² Score')\n",
    "plt.show()\n",
    "\n",
    "best_estimators = estimator_range[r2_scores.index(max(r2_scores))]\n",
    "best_r2_estimators = max(r2_scores)\n",
    "print(f\"Mejor R² para n_estimators: {best_r2_estimators:.4f} con n_estimators = {best_estimators}\")"
   ]
  },
  {
   "cell_type": "markdown",
   "metadata": {},
   "source": [
    "### Calibracion max_features"
   ]
  },
  {
   "cell_type": "code",
   "execution_count": 9,
   "metadata": {},
   "outputs": [
    {
     "data": {
      "image/png": "[encoded data removed]",
      "text/plain": [
       "<Figure size 640x480 with 1 Axes>"
      ]
     },
     "metadata": {},
     "output_type": "display_data"
    },
    {
     "name": "stdout",
     "output_type": "stream",
     "text": [
      "Mejor R² para max_features: 0.8026 con max_features = 9\n"
     ]
    }
   ],
   "source": [
    "# Creación de lista de valores para iterar sobre diferentes valores de max_features\n",
    "feature_range = range(1, len(feature_cols)+1)\n",
    "\n",
    "# Definición de lista para almacenar el R2 promedio para cada valor de max_features\n",
    "r2_scores_features = []\n",
    "\n",
    "# Uso de un 10-fold cross-validation para cada valor de max_features\n",
    "for feature in feature_range:\n",
    "    reg = RandomForestRegressor(n_estimators=200, max_features=feature, random_state=1, n_jobs=-1)\n",
    "    r2_scores_features.append(cross_val_score(reg, X, y, cv=5, scoring='r2').mean())\n",
    "\n",
    "# Gráfica del desempeño del modelo vs la cantidad de max_features\n",
    "plt.plot(feature_range, r2_scores_features)\n",
    "plt.xlabel('max_features')\n",
    "plt.ylabel('R² Score')\n",
    "plt.show()\n",
    "\n",
    "best_feature = feature_range[r2_scores_features.index(max(r2_scores_features))]\n",
    "best_r2_feature = max(r2_scores_features)\n",
    "print(f\"Mejor R² para max_features: {best_r2_feature:.4f} con max_features = {best_feature}\")"
   ]
  },
  {
   "cell_type": "markdown",
   "metadata": {},
   "source": [
    "### Implementacion de un Random Forest con los mejores parametros"
   ]
  },
  {
   "cell_type": "code",
   "execution_count": 14,
   "metadata": {},
   "outputs": [
    {
     "name": "stdout",
     "output_type": "stream",
     "text": [
      "Metricas de desempeno:\n",
      "count    10.000000\n",
      "mean      0.847390\n",
      "std       0.012100\n",
      "min       0.829346\n",
      "25%       0.839241\n",
      "50%       0.848183\n",
      "75%       0.855108\n",
      "max       0.865723\n",
      "dtype: float64\n",
      "\n",
      "Desempeño en RMSE:\n",
      "count      10.000000\n",
      "mean     1530.005104\n",
      "std        63.133062\n",
      "min      1442.440719\n",
      "25%      1483.721915\n",
      "50%      1523.433078\n",
      "75%      1565.856214\n",
      "max      1658.944983\n",
      "dtype: float64\n"
     ]
    }
   ],
   "source": [
    "# Definición del modelo con los nuevos parámetros \n",
    "reg = RandomForestRegressor(max_depth=8, n_estimators=300, max_features=9, random_state=1, n_jobs=-1)\n",
    "reg.fit(X, y)\n",
    "\n",
    "# Impresión de resultados de desemepeño del modelo\n",
    "pd.DataFrame({'feature':feature_cols, 'importance':reg.feature_importances_}).sort_values('importance')\n",
    "\n",
    "print('Metricas de desempeno:')\n",
    "print(pd.Series(cross_val_score(reg, X, y, cv=10, scoring='r2')).describe())\n",
    "\n",
    "# Desempeño en RMSE\n",
    "rmse_scores = cross_val_score(reg, X, y, cv=10, scoring='neg_root_mean_squared_error')\n",
    "rmse_scores = -rmse_scores  # Convertir a valores positivos\n",
    "print(\"\\nDesempeño en RMSE:\")\n",
    "print(pd.Series(rmse_scores).describe())"
   ]
  },
  {
   "cell_type": "markdown",
   "metadata": {},
   "source": [
    "En el presente modelo se realizan los ajustes para tres parámetros (max_depth, n_estimatos, max_features) con el proposito de mejorar la predicción. Empezando, se realiza un recorrido desde 1 hasta 21 para probar el valor más óptimo de la profundización del árbol. El valor más adecuado es 8, y se observa que a medida que se profundiza el árbol de decisiones, el error R2 disminuye. El segundo parámetro es el n_estimatos, en el cual se evaluan varios parametros dentro del rango 10 hasta 310, sin embargo, aunque no se observe en el codigo, se realizaron varias pruebas ampliando el rango hasta 510. Lo anterior permitió observar que el valor de R2, por encima de 150 se mantiene muy plano, con leves cambios en el error promedio. Por lo anterior, se limita el rango unicamente hasta 310 y se escoge 300 como el valor n_estimatos más óptimo. Por último, se calculan los parámetros max_features. Graficamente, se observa que al aumentar los valores max_features, el error R2 aumenta, sin embargo, se establece como rango de iteración la longitud que tiene la columna de predicción, por lo cual, se escoge 9 como el valor óptimo de max_features.\n",
    "\n",
    "Los anteriores parámetros calibrados se implementan dentro del codigo de Random Forest. Estos arrojan un mejor R2 respecto al primer modelo de random forest elaborado, prediciendo en un 84% el conjunto de datos. La baja desviación estandar sugiere que el desempeño es consistente entre los folds, siendo un modelo estable. De igual manera, los valores extremos como el mínimo y máximo se reducen, lo que desmuestra poca variación entre el peor y mejor resultado. Por otra parte, los percentiles no demuestran mucha diferencia, por lo cual, los resultados se encuentran entre el 0.83 y 0.84, siendo un modelo consistente.\n",
    "\n",
    "La calibración de los tres parámetros nombrados anteriormente, mejoran los resultados generales, sin embargo, no permiten mejorar por encima del 90% las predicciones."
   ]
  },
  {
   "cell_type": "markdown",
   "metadata": {
    "id": "cR6EJqjm0U0B"
   },
   "source": [
    "### Punto 6 - XGBoost con librería\n",
    "\n",
    "En la celda 6 implementen un modelo XGBoost de regresión con la librería sklearn y comenten sobre el desempeño del modelo."
   ]
  },
  {
   "cell_type": "code",
   "execution_count": null,
   "metadata": {
    "colab": {
     "base_uri": "https://localhost:8080/"
    },
    "id": "rKmNJ7XB0U0B",
    "outputId": "8c423731-bc9b-4e59-f937-4c8491f7844d"
   },
   "outputs": [],
   "source": [
    "# Celda 6\n",
    "from xgboost import XGBRegressor\n",
    "from sklearn import metrics\n",
    "\n",
    "\n",
    "clf = XGBRegressor()\n",
    "clf\n",
    "\n",
    "# Entenamiento y desempeño del modelo XGBRegressor\n",
    "clf.fit(X_train, y_train)\n",
    "y_pred = clf.predict(X_test)\n",
    "metrics.root_mean_squared_error(y_test, y_pred),metrics.mean_absolute_error(y_test, y_pred)\n",
    "\n"
   ]
  },
  {
   "cell_type": "markdown",
   "metadata": {
    "id": "KJsZNOe81bMG"
   },
   "source": [
    "El desempeño del XGBoost es el siguiente en tanto a las métricas de error:\n",
    "\n",
    "RMSE: 1605.23\n",
    "\n",
    "\n",
    "MAE: 1185.22\n",
    "\n",
    "En comparación a los otros modelos, el RMSE es mejor en comparación al de arboles de decisión pero Bagging sigue siendo la mejor opción."
   ]
  },
  {
   "cell_type": "markdown",
   "metadata": {
    "id": "ktAwT7CH0U0C"
   },
   "source": [
    "### Punto 7 - Calibración de parámetros XGBoost\n",
    "\n",
    "En la celda 7 calibren los parámetros learning rate, gamma y colsample_bytree del modelo XGBoost para regresión, comenten sobre el desempeño del modelo y describan cómo cada parámetro afecta el desempeño del modelo."
   ]
  },
  {
   "cell_type": "code",
   "execution_count": 41,
   "metadata": {
    "colab": {
     "base_uri": "https://localhost:8080/"
    },
    "id": "n1_iC2mh0U0D",
    "outputId": "97b75f8d-44e7-4dbe-efa5-20751c13328c"
   },
   "outputs": [
    {
     "data": {
      "text/plain": [
       "(1549.789306640625, 1136.365966796875)"
      ]
     },
     "execution_count": 41,
     "metadata": {},
     "output_type": "execute_result"
    }
   ],
   "source": [
    "# Celda 7\n",
    "clf = XGBRegressor(learning_rate=0.05,gamma= 3, colsample_bytree= 0.8)\n",
    "clf\n",
    "\n",
    "# Entenamiento y desempeño del modelo XGBRegressor\n",
    "clf.fit(X_train, y_train)\n",
    "y_pred = clf.predict(X_test)\n",
    "metrics.root_mean_squared_error(y_test, y_pred),metrics.mean_absolute_error(y_test, y_pred)\n"
   ]
  },
  {
   "cell_type": "markdown",
   "metadata": {
    "id": "gCR7dwCx1m6c"
   },
   "source": [
    "En tanto a la calibración del modelo se escogieron los siguientes valores para cada uno de los parametros a sensibilizar:\n",
    "\n",
    "learning_rate=0.05,gamma= 3, colsample_bytree= 0.8\n",
    "\n",
    "Con el learning_rate, el modelo puede llegar a aprender más lento pero reducimos el posible sobreajuste.\n",
    "\n",
    "Con el gamma se pretende colocar una reducción de la perdida minima requerida para partir un arbol. Entre más grande sea, mejor podemos evitar el sobreajuste.\n",
    "\n",
    "Con colsample_bytree, el porcentaje de los datos en las columnas son seleccionados para la construcción de un arbol. Esto puede llegar a ser util para entender y capturar diferentes rasgos de los datos.\n",
    "\n",
    "Los valores del RMSE y el MAE son menores que el XGBoost sin calibración el los parámetros, lo que indica mejores resultados al reducir el error:\n",
    "\n",
    "RMSE calibrado: 1549.78\n",
    "\n",
    "RMSE sin calibrar: 1605.23\n",
    "\n",
    "MAE calibrado: 1136.36\n",
    "\n",
    "MAE sin calibrar: 1185.22"
   ]
  },
  {
   "cell_type": "markdown",
   "metadata": {
    "id": "9ZeMjJA_0U0E"
   },
   "source": [
    "### Punto 8 - Comparación y análisis de resultados\n",
    "En la celda 8 comparen los resultados obtenidos de los diferentes modelos (random forest y XGBoost) y comenten las ventajas del mejor modelo y las desventajas del modelo con el menor desempeño."
   ]
  },
  {
   "cell_type": "markdown",
   "metadata": {
    "id": "ob1bs2SR0U0H"
   },
   "source": [
    "De acuerdo a los resultados obtenidos:\n",
    "\n",
    "Arboles de decisión: RMSE = 15113.77\n",
    "\n",
    "Bagging (Manual): El RMSE = 745\n",
    "\n",
    "Bagging (librerias): El RMSE = 1251\n",
    "\n",
    "Random Forest con parametros por defecto: El RMSE = 1746.23\n",
    "\n",
    "Random Fores con parametros calibrados: El RMSE = 1530.00\n",
    "\n",
    "XGboost sin calibrar: El RMSE = 1605.23\n",
    "\n",
    "XGBoost calibrado : El RMSE = 1549.78\n",
    "\n",
    "Podríamos concluir que el mejor modelo para predecir el precio del automóvil sería el Bagging (Manual), ya que presenta el menor valor de RMSE = 745. Esto representa una ventaja significativa porque un RMSE reducido implica que las predicciones del modelo son más precisas y están más cercanas a los valores reales, lo que mejora la confiabilidad del modelo para tomar decisiones basadas en estas estimaciones. Además, un error menor reduce la incertidumbre y permite implementar estrategias con mayor nivel de precisión, optimizando así tanto el análisis de precios como las proyecciones futuras.\n",
    "\n",
    "De manera general, Bagging manual es, por mucho, el mejor modelo en este caso, con un RMSE de apenas 745, lo cual indica una gran precisión respecto a los demás.\n",
    "\n",
    "Random Forest y XGBoost calibrados mejoran notablemente respecto a sus versiones por defecto, lo que muestra que la calibración de hiperparámetros sí vale la pena.\n",
    "\n",
    "El árbol de decisión individual tiene un RMSE excesivamente alto (15113.77), lo que confirma que los modelos de ensamblaje (bagging, RF, XGBoost) generalizan mucho mejor que un solo árbol."
   ]
  },
  {
   "cell_type": "code",
   "execution_count": 41,
   "metadata": {
    "id": "bdtet8ui0U0I"
   },
   "outputs": [],
   "source": []
  }
 ],
 "metadata": {
  "colab": {
   "provenance": []
  },
  "kernelspec": {
   "display_name": "Python 3 (ipykernel)",
   "language": "python",
   "name": "python3"
  },
  "language_info": {
   "codemirror_mode": {
    "name": "ipython",
    "version": 3
   },
   "file_extension": ".py",
   "mimetype": "text/x-python",
   "name": "python",
   "nbconvert_exporter": "python",
   "pygments_lexer": "ipython3",
   "version": "3.10.9"
  }
 },
 "nbformat": 4,
 "nbformat_minor": 1
}
